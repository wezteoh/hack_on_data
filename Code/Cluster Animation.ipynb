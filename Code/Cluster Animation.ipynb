{
 "cells": [
  {
   "cell_type": "markdown",
   "metadata": {},
   "source": [
    "# Introduction\n",
    "This `Python 2` / `PySpark` script creates a Plotly animation of cluster moving over the 5 recent years (2010 - 2014)."
   ]
  },
  {
   "cell_type": "markdown",
   "metadata": {},
   "source": [
    "# Notebook Setup"
   ]
  },
  {
   "cell_type": "markdown",
   "metadata": {},
   "source": [
    "## Initialise modules"
   ]
  },
  {
   "cell_type": "code",
   "execution_count": 159,
   "metadata": {
    "collapsed": true
   },
   "outputs": [],
   "source": [
    "import findspark\n",
    "import pyspark\n",
    "import pyspark.sql.functions as F\n",
    "import pyspark.sql.types as T\n",
    "\n",
    "import pymongo\n",
    "import pandas as pd\n",
    "\n",
    "import gzip # To parse gzip file\n",
    "import os # For setting up Mongo-Spark connector\n",
    "\n",
    "import plotly\n",
    "import plotly.offline as pyo\n",
    "import plotly.graph_objs as go"
   ]
  },
  {
   "cell_type": "markdown",
   "metadata": {},
   "source": [
    "## Initialise PySpark session"
   ]
  },
  {
   "cell_type": "markdown",
   "metadata": {},
   "source": [
    "Load `MongoDB-Spark` connector when starting up `PySpark`."
   ]
  },
  {
   "cell_type": "code",
   "execution_count": 2,
   "metadata": {
    "collapsed": true
   },
   "outputs": [],
   "source": [
    "packages = 'org.mongodb.spark:mongo-spark-connector_2.11:2.2.0'\n",
    "dedicated_memory = '4g'\n",
    "\n",
    "os.environ['PYSPARK_SUBMIT_ARGS'] = '--packages {} --driver-memory {} pyspark-shell' \\\n",
    "    .format(packages, dedicated_memory)"
   ]
  },
  {
   "cell_type": "code",
   "execution_count": 3,
   "metadata": {
    "collapsed": true
   },
   "outputs": [],
   "source": [
    "# Find SPARK_HOME\n",
    "findspark.init()\n",
    "\n",
    "# Create SparkSession\n",
    "spark = (pyspark.sql.SparkSession\n",
    "         .builder.appName('ClusterAnimation')\n",
    "         .getOrCreate())"
   ]
  },
  {
   "cell_type": "markdown",
   "metadata": {},
   "source": [
    "## Initiate Plotly Offline notebook mode"
   ]
  },
  {
   "cell_type": "code",
   "execution_count": 4,
   "metadata": {},
   "outputs": [
    {
     "data": {
      "text/html": [
       "<script>requirejs.config({paths: { 'plotly': ['https://cdn.plot.ly/plotly-latest.min']},});if(!window.Plotly) {{require(['plotly'],function(plotly) {window.Plotly=plotly;});}}</script>"
      ],
      "text/vnd.plotly.v1+html": [
       "<script>requirejs.config({paths: { 'plotly': ['https://cdn.plot.ly/plotly-latest.min']},});if(!window.Plotly) {{require(['plotly'],function(plotly) {window.Plotly=plotly;});}}</script>"
      ]
     },
     "metadata": {},
     "output_type": "display_data"
    }
   ],
   "source": [
    "pyo.init_notebook_mode(connected=True)"
   ]
  },
  {
   "cell_type": "markdown",
   "metadata": {},
   "source": [
    "## Configure Pandas HTML display"
   ]
  },
  {
   "cell_type": "code",
   "execution_count": 5,
   "metadata": {
    "collapsed": true
   },
   "outputs": [],
   "source": [
    "pd.set_option('display.max_colwidth', -1)"
   ]
  },
  {
   "cell_type": "markdown",
   "metadata": {},
   "source": [
    "## Define helper methods"
   ]
  },
  {
   "cell_type": "code",
   "execution_count": 16,
   "metadata": {
    "code_folding": [
     0,
     8,
     38,
     51
    ],
    "collapsed": true
   },
   "outputs": [],
   "source": [
    "def parse(path):\n",
    "    '''\n",
    "    Unzip a json.gz at `path` and returns a generator.\n",
    "    '''\n",
    "    g = gzip.open(path, 'rb')\n",
    "    for line in g:\n",
    "        yield eval(line)\n",
    "\n",
    "def import_to_mongo(path, coll, db='hackon', create_index=True):\n",
    "    '''\n",
    "    Unzip and import json.gz file from `path` and loads it into mongo server.\n",
    "    Create database index if `create_index` is True. \n",
    "    '''\n",
    "    # Obtain handle to Mongo database and collection\n",
    "    client = pymongo.MongoClient()\n",
    "    collection = client[db][coll]\n",
    "    \n",
    "    # Return prematurely if database.collection already exists\n",
    "    if (collection.count() != 0):\n",
    "        print '{}.{} already exists on MongoDisk server. Exiting without loading JSON data.'.format(db, coll)\n",
    "        return\n",
    "    \n",
    "    # Insert datapoints into Mongo database\n",
    "    try:\n",
    "        collection.insert_many((datapoint for datapoint in parse(path)))\n",
    "        print 'JSON data successfully imported to Mongo at \\'{}.{}.\\''.format(db, coll)\n",
    "    except Exception as e:\n",
    "        print 'Error loading data.\\n{}'.format(e)\n",
    "        client.close()\n",
    "        return\n",
    "    \n",
    "    if not create_index:\n",
    "        client.close()\n",
    "        return\n",
    "    \n",
    "    # Create database index for improved searching\n",
    "    # collection.create_index([('asin', pymongo.ASCENDING), ('reviewerID', pymongo.DESCENDING)])\n",
    "\n",
    "def load_mongo_to_spark(coll, db='hackon'):\n",
    "    '''\n",
    "    Load the Mongo database to a Spark Session and returns the Spark DataFrame\n",
    "    '''\n",
    "    try:\n",
    "        return (spark\n",
    "                .read\n",
    "                .format('com.mongodb.spark.sql.DefaultSource')\n",
    "                .option('uri', 'mongodb://127.0.0.1/{}.{}'.format(db, coll))\n",
    "                .load())\n",
    "    except Exception as e:\n",
    "        print 'Failed to create Spark dataframe.\\n{}'.format(e)\n",
    "\n",
    "def displayDF(sparkDF, n=10):\n",
    "    '''\n",
    "    Interactively displays the first n rows of a sparkDF as a pandas dataframe\n",
    "    '''\n",
    "    print 'Count: {}'.format(sparkDF.count())\n",
    "    return (sparkDF\n",
    "            .limit(n)\n",
    "            .drop('_id', 'unixReviewTime')\n",
    "            .toPandas())"
   ]
  },
  {
   "cell_type": "markdown",
   "metadata": {},
   "source": [
    "# Cluster Animation Script\n",
    "The following code creates a Plotly animation of how particular clusters 'position' (as depicted by our `MF` and `UD` indices), move with time. "
   ]
  },
  {
   "cell_type": "markdown",
   "metadata": {},
   "source": [
    "## Import clustered products metadata"
   ]
  },
  {
   "cell_type": "code",
   "execution_count": 160,
   "metadata": {},
   "outputs": [],
   "source": [
    "# Define schema\n",
    "schema_list = [\n",
    "    T.StructField('clusterID', T.StringType()),\n",
    "    T.StructField('productCount', T.IntegerType()),\n",
    "]\n",
    "schema_list.extend([T.StructField('MF201{}'.format(i), T.FloatType()) for i in range(5)])\n",
    "schema_list.extend([T.StructField('UD201{}'.format(i), T.FloatType()) for i in range(5)])\n",
    "\n",
    "\n",
    "schema = T.StructType(T.StructType(schema_list))"
   ]
  },
  {
   "cell_type": "code",
   "execution_count": 157,
   "metadata": {},
   "outputs": [
    {
     "name": "stdout",
     "output_type": "stream",
     "text": [
      "Count: 5\n"
     ]
    },
    {
     "data": {
      "text/html": [
       "<div>\n",
       "<style>\n",
       "    .dataframe thead tr:only-child th {\n",
       "        text-align: right;\n",
       "    }\n",
       "\n",
       "    .dataframe thead th {\n",
       "        text-align: left;\n",
       "    }\n",
       "\n",
       "    .dataframe tbody tr th {\n",
       "        vertical-align: top;\n",
       "    }\n",
       "</style>\n",
       "<table border=\"1\" class=\"dataframe\">\n",
       "  <thead>\n",
       "    <tr style=\"text-align: right;\">\n",
       "      <th></th>\n",
       "      <th>clusterID</th>\n",
       "      <th>productCount</th>\n",
       "      <th>MF2010</th>\n",
       "      <th>MF2011</th>\n",
       "      <th>MF2012</th>\n",
       "      <th>MF2013</th>\n",
       "      <th>MF2014</th>\n",
       "      <th>UD2010</th>\n",
       "      <th>UD2011</th>\n",
       "      <th>UD2012</th>\n",
       "      <th>UD2013</th>\n",
       "      <th>UD2014</th>\n",
       "    </tr>\n",
       "  </thead>\n",
       "  <tbody>\n",
       "    <tr>\n",
       "      <th>0</th>\n",
       "      <td>31</td>\n",
       "      <td>2</td>\n",
       "      <td>0.1</td>\n",
       "      <td>0.2</td>\n",
       "      <td>0.4</td>\n",
       "      <td>0.2</td>\n",
       "      <td>0.5</td>\n",
       "      <td>0.8</td>\n",
       "      <td>0.9</td>\n",
       "      <td>0.4</td>\n",
       "      <td>0.6</td>\n",
       "      <td>0.5</td>\n",
       "    </tr>\n",
       "    <tr>\n",
       "      <th>1</th>\n",
       "      <td>1</td>\n",
       "      <td>10</td>\n",
       "      <td>0.3</td>\n",
       "      <td>0.8</td>\n",
       "      <td>0.3</td>\n",
       "      <td>0.3</td>\n",
       "      <td>0.3</td>\n",
       "      <td>0.5</td>\n",
       "      <td>0.9</td>\n",
       "      <td>0.3</td>\n",
       "      <td>0.6</td>\n",
       "      <td>0.5</td>\n",
       "    </tr>\n",
       "    <tr>\n",
       "      <th>2</th>\n",
       "      <td>53</td>\n",
       "      <td>29</td>\n",
       "      <td>0.2</td>\n",
       "      <td>0.7</td>\n",
       "      <td>0.8</td>\n",
       "      <td>0.2</td>\n",
       "      <td>0.5</td>\n",
       "      <td>0.1</td>\n",
       "      <td>0.2</td>\n",
       "      <td>0.1</td>\n",
       "      <td>0.9</td>\n",
       "      <td>0.5</td>\n",
       "    </tr>\n",
       "    <tr>\n",
       "      <th>3</th>\n",
       "      <td>19</td>\n",
       "      <td>16</td>\n",
       "      <td>0.4</td>\n",
       "      <td>0.2</td>\n",
       "      <td>0.1</td>\n",
       "      <td>0.2</td>\n",
       "      <td>0.8</td>\n",
       "      <td>0.8</td>\n",
       "      <td>0.7</td>\n",
       "      <td>0.4</td>\n",
       "      <td>0.3</td>\n",
       "      <td>0.5</td>\n",
       "    </tr>\n",
       "    <tr>\n",
       "      <th>4</th>\n",
       "      <td>24</td>\n",
       "      <td>24</td>\n",
       "      <td>0.7</td>\n",
       "      <td>0.7</td>\n",
       "      <td>0.3</td>\n",
       "      <td>0.6</td>\n",
       "      <td>0.1</td>\n",
       "      <td>0.8</td>\n",
       "      <td>0.9</td>\n",
       "      <td>0.9</td>\n",
       "      <td>0.1</td>\n",
       "      <td>0.5</td>\n",
       "    </tr>\n",
       "  </tbody>\n",
       "</table>\n",
       "</div>"
      ],
      "text/plain": [
       "  clusterID  productCount  MF2010  MF2011  MF2012  MF2013  MF2014  UD2010  \\\n",
       "0  31        2             0.1     0.2     0.4     0.2     0.5     0.8      \n",
       "1  1         10            0.3     0.8     0.3     0.3     0.3     0.5      \n",
       "2  53        29            0.2     0.7     0.8     0.2     0.5     0.1      \n",
       "3  19        16            0.4     0.2     0.1     0.2     0.8     0.8      \n",
       "4  24        24            0.7     0.7     0.3     0.6     0.1     0.8      \n",
       "\n",
       "   UD2011  UD2012  UD2013  UD2014  \n",
       "0  0.9     0.4     0.6     0.5     \n",
       "1  0.9     0.3     0.6     0.5     \n",
       "2  0.2     0.1     0.9     0.5     \n",
       "3  0.7     0.4     0.3     0.5     \n",
       "4  0.9     0.9     0.1     0.5     "
      ]
     },
     "execution_count": 157,
     "metadata": {},
     "output_type": "execute_result"
    }
   ],
   "source": [
    "toy_data = [\n",
    "    (31, 2, 0.1, 0.2, 0.4, 0.2, 0.5, 0.8, 0.9, 0.4, 0.6, 0.5),\n",
    "    (1, 10, 0.3, 0.8, 0.3, 0.3, 0.3, 0.5, 0.9, 0.3, 0.6, 0.5),\n",
    "    (53, 29, 0.2, 0.7, 0.8, 0.2, 0.5, 0.1, 0.2, 0.1, 0.9, 0.5),\n",
    "    (19, 16, 0.4, 0.2, 0.1, 0.2, 0.8, 0.8, 0.7, 0.4, 0.3, 0.5),\n",
    "    (24, 24, 0.7, 0.7, 0.3, 0.6, 0.1, 0.8, 0.9, 0.9, 0.1, 0.5)\n",
    "]\n",
    "metricDF = spark.createDataFrame(toy_data, schema=schema)\n",
    "displayDF(metricDF)"
   ]
  },
  {
   "cell_type": "markdown",
   "metadata": {},
   "source": [
    "### Animate clusters"
   ]
  },
  {
   "cell_type": "code",
   "execution_count": 161,
   "metadata": {
    "code_folding": []
   },
   "outputs": [],
   "source": [
    "def animate_clusters(DF, filename=''):\n",
    "    '''\n",
    "    Create an animated plot of product cluster moving along the MF-UD space over each year.\n",
    "    \n",
    "    Inputs:\n",
    "        DF: A Spark DataFrame containing 'clusterID', 'productCount', 'MF' and 'UD' scores.\n",
    "    '''\n",
    "    # Infer number of years, Y, to plot\n",
    "    Y = sum([(True if 'MF' in col_name else False) for col_name in clusterDF.schema.names])\n",
    "    \n",
    "    try:\n",
    "        assert Y == sum([(True if 'UD' in col_name else False) for col_name in clusterDF.schema.names])\n",
    "    except:\n",
    "        print 'Error: MF and UD columns do not have the same number of years.'\n",
    "    \n",
    "    # Convert Spark DF to pandas\n",
    "    pandasDF = DF.sort(F.col('clusterID')).toPandas()\n",
    "    \n",
    "    # Obtain number of clusters, C, to plot\n",
    "    C = pandasDF.shape[0]\n",
    "    \n",
    "    # Define colour list as per Plotly's default colour list\n",
    "    colour_list = ['#1f77b4', '#ff7f0e', '#2ca02c', '#d62728', '#9467bd', '#8c564b']\n",
    "    \n",
    "    # Define slider ticker labels\n",
    "    slider_values = ['2010', '2011', '2012', '2013', '2014']    \n",
    "    \n",
    "    # Define barebone figure\n",
    "    figure = {\n",
    "        'data': [],\n",
    "        'layout': {},\n",
    "        'frames': [],\n",
    "    }\n",
    "    \n",
    "    # Create layout\n",
    "    figure['layout'] = {\n",
    "        'width': 900,\n",
    "        'height': 900,\n",
    "        'xaxis': {'range': [0, 1.2], 'autorange': False},\n",
    "        'yaxis': {'range': [0, 1.2], 'autorange': False},\n",
    "        'title': 'Cluster Performance',\n",
    "        'showlegend': True,\n",
    "        'updatemenus': [{'type': 'buttons',\n",
    "                          'direction': 'left', # Arrange placement of buttons\n",
    "                          'pad': {'r': 10, 't': 87}, # Right and top padding\n",
    "                          'showactive': False, # Removes highlight from active button\n",
    "                          'x': 0, # Button positions \n",
    "                          'y': 0, # Button positions\n",
    "                          'xanchor': 'right',\n",
    "                          'yanchor': 'top',\n",
    "                          'buttons': [\n",
    "                              {\n",
    "                                  'label': 'Play', # Button label\n",
    "                                  'method': 'animate', # Method name\n",
    "                                  'args': [None, \n",
    "                                           { # Args determines which frames to animate\n",
    "                                               'frame': {'duration': 500, 'redraw': False},\n",
    "                                               'fromcurrent': True,\n",
    "                                               'transition': {'duration': 300, 'easing': 'quadratic-in-out'}\n",
    "                                           }\n",
    "                                          ]\n",
    "                              },\n",
    "                              {\n",
    "                                  'label': 'Pause',\n",
    "                                  'method': 'animate',\n",
    "                                  'args': [[None], \n",
    "                                           { # '[None]' ensures proper 'pause' functionailty\n",
    "                                               'frame': {'duration': 0, 'redraw': False},\n",
    "                                               'mode': 'immediate',\n",
    "                                               'transition': {'duration': 0}\n",
    "                                           }\n",
    "                                          ]\n",
    "                              }\n",
    "                          ]\n",
    "                         }\n",
    "                       ]\n",
    "    }\n",
    "    \n",
    "    # Create frames and slider steps\n",
    "    slider_steps = []\n",
    "    for year in range(Y):        \n",
    "        # Create single frame variable\n",
    "        frame = {'data': [], 'name': slider_values[year]} # Without name, slider will not interact with graph\n",
    "\n",
    "        # Populate data for each cluster, c\n",
    "        for c in range(C):\n",
    "            # Create trace for clusters\n",
    "            cluster_trace = {\n",
    "                'x': [pandasDF['MF201{}'.format(year)][c]],\n",
    "                'y': [pandasDF['UD201{}'.format(year)][c]],\n",
    "                'mode': 'markers',\n",
    "                'hoverinfo': 'text',\n",
    "                'name': 'Cluster {}'.format(pandasDF['clusterID'][c]),\n",
    "                'text': ['ID: {0}<br>Size: {1}<br>MF: {2:.2f}<br>UD: {3:.2f}'\n",
    "                         .format(pandasDF['clusterID'][c], \n",
    "                                 pandasDF['productCount'][c], \n",
    "                                 pandasDF['MF201{}'.format(year)][c],\n",
    "                                 pandasDF['UD201{}'.format(year)][c])],\n",
    "                'marker': {\n",
    "                    'size': [10 * pandasDF['productCount'][c]],\n",
    "                    'color': colour_list[c],\n",
    "                }\n",
    "            }\n",
    "            \n",
    "            # Append first set of cluster_trace to data\n",
    "            if year == 0: figure['data'].append(cluster_trace)\n",
    "            \n",
    "            # Append all cluster_traces to frames\n",
    "            frame['data'].append(cluster_trace)\n",
    "            \n",
    "        # Append frame to frames variable\n",
    "        figure['frames'].append(frame)\n",
    "        \n",
    "        # Define slider step\n",
    "        slider_step = {\n",
    "            'args': [\n",
    "                [slider_values[year]],\n",
    "                {'frame': {'duration': 300, 'redraw': False},\n",
    "                 'mode': 'immediate',\n",
    "                 'transition': {'duration': 300}}\n",
    "            ],\n",
    "            'label': slider_values[year],\n",
    "            'method': 'animate'\n",
    "        }\n",
    "        \n",
    "        # Append slider stes to slider dictionary\n",
    "        slider_steps.append(slider_step)\n",
    "        \n",
    "    # Define slider dictionary\n",
    "    slider_dict = {\n",
    "        'active': 0, # Slider knob's relative starting location\n",
    "        'pad': {'b': 10, 't': 50}, # Bottom and top padding\n",
    "        'len': 0.9, # Slider length\n",
    "        'x': 0.1, # Slider x-position\n",
    "        'y': 0, # Slider y-position\n",
    "        'yanchor': 'top', \n",
    "        'xanchor': 'left',\n",
    "        'currentvalue': { # Displays current value selected by slider\n",
    "            'font': {'size': 20},\n",
    "            'prefix': 'Year ',\n",
    "            'visible': True,\n",
    "            'xanchor': 'right'\n",
    "        },\n",
    "        'transition': {'duration': 300, 'easing': 'cubic-in-out'},\n",
    "        'steps': slider_steps\n",
    "    }\n",
    "    \n",
    "    # Add sliders to layout\n",
    "    figure['layout']['sliders'] = [slider_dict]\n",
    "    \n",
    "    return pyo.iplot(figure)\n",
    "    "
   ]
  },
  {
   "cell_type": "code",
   "execution_count": 162,
   "metadata": {
    "scrolled": false
   },
   "outputs": [
    {
     "data": {
      "application/vnd.plotly.v1+json": {
       "data": [
        {
         "hoverinfo": "text",
         "marker": {
          "color": "#1f77b4",
          "size": [
           100
          ]
         },
         "mode": "markers",
         "name": "Cluster 1",
         "text": [
          "ID: 1<br>Size: 10<br>MF: 0.30<br>UD: 0.50"
         ],
         "x": [
          0.30000001192092896
         ],
         "y": [
          0.5
         ]
        },
        {
         "hoverinfo": "text",
         "marker": {
          "color": "#ff7f0e",
          "size": [
           160
          ]
         },
         "mode": "markers",
         "name": "Cluster 19",
         "text": [
          "ID: 19<br>Size: 16<br>MF: 0.40<br>UD: 0.80"
         ],
         "x": [
          0.4000000059604645
         ],
         "y": [
          0.800000011920929
         ]
        },
        {
         "hoverinfo": "text",
         "marker": {
          "color": "#2ca02c",
          "size": [
           240
          ]
         },
         "mode": "markers",
         "name": "Cluster 24",
         "text": [
          "ID: 24<br>Size: 24<br>MF: 0.70<br>UD: 0.80"
         ],
         "x": [
          0.699999988079071
         ],
         "y": [
          0.800000011920929
         ]
        },
        {
         "hoverinfo": "text",
         "marker": {
          "color": "#d62728",
          "size": [
           20
          ]
         },
         "mode": "markers",
         "name": "Cluster 31",
         "text": [
          "ID: 31<br>Size: 2<br>MF: 0.10<br>UD: 0.80"
         ],
         "x": [
          0.10000000149011612
         ],
         "y": [
          0.800000011920929
         ]
        },
        {
         "hoverinfo": "text",
         "marker": {
          "color": "#9467bd",
          "size": [
           290
          ]
         },
         "mode": "markers",
         "name": "Cluster 53",
         "text": [
          "ID: 53<br>Size: 29<br>MF: 0.20<br>UD: 0.10"
         ],
         "x": [
          0.20000000298023224
         ],
         "y": [
          0.10000000149011612
         ]
        }
       ],
       "frames": [
        {
         "data": [
          {
           "hoverinfo": "text",
           "marker": {
            "color": "#1f77b4",
            "size": [
             100
            ]
           },
           "mode": "markers",
           "name": "Cluster 1",
           "text": [
            "ID: 1<br>Size: 10<br>MF: 0.30<br>UD: 0.50"
           ],
           "x": [
            0.30000001192092896
           ],
           "y": [
            0.5
           ]
          },
          {
           "hoverinfo": "text",
           "marker": {
            "color": "#ff7f0e",
            "size": [
             160
            ]
           },
           "mode": "markers",
           "name": "Cluster 19",
           "text": [
            "ID: 19<br>Size: 16<br>MF: 0.40<br>UD: 0.80"
           ],
           "x": [
            0.4000000059604645
           ],
           "y": [
            0.800000011920929
           ]
          },
          {
           "hoverinfo": "text",
           "marker": {
            "color": "#2ca02c",
            "size": [
             240
            ]
           },
           "mode": "markers",
           "name": "Cluster 24",
           "text": [
            "ID: 24<br>Size: 24<br>MF: 0.70<br>UD: 0.80"
           ],
           "x": [
            0.699999988079071
           ],
           "y": [
            0.800000011920929
           ]
          },
          {
           "hoverinfo": "text",
           "marker": {
            "color": "#d62728",
            "size": [
             20
            ]
           },
           "mode": "markers",
           "name": "Cluster 31",
           "text": [
            "ID: 31<br>Size: 2<br>MF: 0.10<br>UD: 0.80"
           ],
           "x": [
            0.10000000149011612
           ],
           "y": [
            0.800000011920929
           ]
          },
          {
           "hoverinfo": "text",
           "marker": {
            "color": "#9467bd",
            "size": [
             290
            ]
           },
           "mode": "markers",
           "name": "Cluster 53",
           "text": [
            "ID: 53<br>Size: 29<br>MF: 0.20<br>UD: 0.10"
           ],
           "x": [
            0.20000000298023224
           ],
           "y": [
            0.10000000149011612
           ]
          }
         ],
         "name": "2010"
        },
        {
         "data": [
          {
           "hoverinfo": "text",
           "marker": {
            "color": "#1f77b4",
            "size": [
             100
            ]
           },
           "mode": "markers",
           "name": "Cluster 1",
           "text": [
            "ID: 1<br>Size: 10<br>MF: 0.80<br>UD: 0.90"
           ],
           "x": [
            0.800000011920929
           ],
           "y": [
            0.8999999761581421
           ]
          },
          {
           "hoverinfo": "text",
           "marker": {
            "color": "#ff7f0e",
            "size": [
             160
            ]
           },
           "mode": "markers",
           "name": "Cluster 19",
           "text": [
            "ID: 19<br>Size: 16<br>MF: 0.20<br>UD: 0.70"
           ],
           "x": [
            0.20000000298023224
           ],
           "y": [
            0.699999988079071
           ]
          },
          {
           "hoverinfo": "text",
           "marker": {
            "color": "#2ca02c",
            "size": [
             240
            ]
           },
           "mode": "markers",
           "name": "Cluster 24",
           "text": [
            "ID: 24<br>Size: 24<br>MF: 0.70<br>UD: 0.90"
           ],
           "x": [
            0.699999988079071
           ],
           "y": [
            0.8999999761581421
           ]
          },
          {
           "hoverinfo": "text",
           "marker": {
            "color": "#d62728",
            "size": [
             20
            ]
           },
           "mode": "markers",
           "name": "Cluster 31",
           "text": [
            "ID: 31<br>Size: 2<br>MF: 0.20<br>UD: 0.90"
           ],
           "x": [
            0.20000000298023224
           ],
           "y": [
            0.8999999761581421
           ]
          },
          {
           "hoverinfo": "text",
           "marker": {
            "color": "#9467bd",
            "size": [
             290
            ]
           },
           "mode": "markers",
           "name": "Cluster 53",
           "text": [
            "ID: 53<br>Size: 29<br>MF: 0.70<br>UD: 0.20"
           ],
           "x": [
            0.699999988079071
           ],
           "y": [
            0.20000000298023224
           ]
          }
         ],
         "name": "2011"
        },
        {
         "data": [
          {
           "hoverinfo": "text",
           "marker": {
            "color": "#1f77b4",
            "size": [
             100
            ]
           },
           "mode": "markers",
           "name": "Cluster 1",
           "text": [
            "ID: 1<br>Size: 10<br>MF: 0.30<br>UD: 0.30"
           ],
           "x": [
            0.30000001192092896
           ],
           "y": [
            0.30000001192092896
           ]
          },
          {
           "hoverinfo": "text",
           "marker": {
            "color": "#ff7f0e",
            "size": [
             160
            ]
           },
           "mode": "markers",
           "name": "Cluster 19",
           "text": [
            "ID: 19<br>Size: 16<br>MF: 0.10<br>UD: 0.40"
           ],
           "x": [
            0.10000000149011612
           ],
           "y": [
            0.4000000059604645
           ]
          },
          {
           "hoverinfo": "text",
           "marker": {
            "color": "#2ca02c",
            "size": [
             240
            ]
           },
           "mode": "markers",
           "name": "Cluster 24",
           "text": [
            "ID: 24<br>Size: 24<br>MF: 0.30<br>UD: 0.90"
           ],
           "x": [
            0.30000001192092896
           ],
           "y": [
            0.8999999761581421
           ]
          },
          {
           "hoverinfo": "text",
           "marker": {
            "color": "#d62728",
            "size": [
             20
            ]
           },
           "mode": "markers",
           "name": "Cluster 31",
           "text": [
            "ID: 31<br>Size: 2<br>MF: 0.40<br>UD: 0.40"
           ],
           "x": [
            0.4000000059604645
           ],
           "y": [
            0.4000000059604645
           ]
          },
          {
           "hoverinfo": "text",
           "marker": {
            "color": "#9467bd",
            "size": [
             290
            ]
           },
           "mode": "markers",
           "name": "Cluster 53",
           "text": [
            "ID: 53<br>Size: 29<br>MF: 0.80<br>UD: 0.10"
           ],
           "x": [
            0.800000011920929
           ],
           "y": [
            0.10000000149011612
           ]
          }
         ],
         "name": "2012"
        },
        {
         "data": [
          {
           "hoverinfo": "text",
           "marker": {
            "color": "#1f77b4",
            "size": [
             100
            ]
           },
           "mode": "markers",
           "name": "Cluster 1",
           "text": [
            "ID: 1<br>Size: 10<br>MF: 0.30<br>UD: 0.60"
           ],
           "x": [
            0.30000001192092896
           ],
           "y": [
            0.6000000238418579
           ]
          },
          {
           "hoverinfo": "text",
           "marker": {
            "color": "#ff7f0e",
            "size": [
             160
            ]
           },
           "mode": "markers",
           "name": "Cluster 19",
           "text": [
            "ID: 19<br>Size: 16<br>MF: 0.20<br>UD: 0.30"
           ],
           "x": [
            0.20000000298023224
           ],
           "y": [
            0.30000001192092896
           ]
          },
          {
           "hoverinfo": "text",
           "marker": {
            "color": "#2ca02c",
            "size": [
             240
            ]
           },
           "mode": "markers",
           "name": "Cluster 24",
           "text": [
            "ID: 24<br>Size: 24<br>MF: 0.60<br>UD: 0.10"
           ],
           "x": [
            0.6000000238418579
           ],
           "y": [
            0.10000000149011612
           ]
          },
          {
           "hoverinfo": "text",
           "marker": {
            "color": "#d62728",
            "size": [
             20
            ]
           },
           "mode": "markers",
           "name": "Cluster 31",
           "text": [
            "ID: 31<br>Size: 2<br>MF: 0.20<br>UD: 0.60"
           ],
           "x": [
            0.20000000298023224
           ],
           "y": [
            0.6000000238418579
           ]
          },
          {
           "hoverinfo": "text",
           "marker": {
            "color": "#9467bd",
            "size": [
             290
            ]
           },
           "mode": "markers",
           "name": "Cluster 53",
           "text": [
            "ID: 53<br>Size: 29<br>MF: 0.20<br>UD: 0.90"
           ],
           "x": [
            0.20000000298023224
           ],
           "y": [
            0.8999999761581421
           ]
          }
         ],
         "name": "2013"
        },
        {
         "data": [
          {
           "hoverinfo": "text",
           "marker": {
            "color": "#1f77b4",
            "size": [
             100
            ]
           },
           "mode": "markers",
           "name": "Cluster 1",
           "text": [
            "ID: 1<br>Size: 10<br>MF: 0.30<br>UD: 0.50"
           ],
           "x": [
            0.30000001192092896
           ],
           "y": [
            0.5
           ]
          },
          {
           "hoverinfo": "text",
           "marker": {
            "color": "#ff7f0e",
            "size": [
             160
            ]
           },
           "mode": "markers",
           "name": "Cluster 19",
           "text": [
            "ID: 19<br>Size: 16<br>MF: 0.80<br>UD: 0.50"
           ],
           "x": [
            0.800000011920929
           ],
           "y": [
            0.5
           ]
          },
          {
           "hoverinfo": "text",
           "marker": {
            "color": "#2ca02c",
            "size": [
             240
            ]
           },
           "mode": "markers",
           "name": "Cluster 24",
           "text": [
            "ID: 24<br>Size: 24<br>MF: 0.10<br>UD: 0.50"
           ],
           "x": [
            0.10000000149011612
           ],
           "y": [
            0.5
           ]
          },
          {
           "hoverinfo": "text",
           "marker": {
            "color": "#d62728",
            "size": [
             20
            ]
           },
           "mode": "markers",
           "name": "Cluster 31",
           "text": [
            "ID: 31<br>Size: 2<br>MF: 0.50<br>UD: 0.50"
           ],
           "x": [
            0.5
           ],
           "y": [
            0.5
           ]
          },
          {
           "hoverinfo": "text",
           "marker": {
            "color": "#9467bd",
            "size": [
             290
            ]
           },
           "mode": "markers",
           "name": "Cluster 53",
           "text": [
            "ID: 53<br>Size: 29<br>MF: 0.50<br>UD: 0.50"
           ],
           "x": [
            0.5
           ],
           "y": [
            0.5
           ]
          }
         ],
         "name": "2014"
        }
       ],
       "layout": {
        "height": 900,
        "showlegend": true,
        "sliders": [
         {
          "active": 0,
          "currentvalue": {
           "font": {
            "size": 20
           },
           "prefix": "Year ",
           "visible": true,
           "xanchor": "right"
          },
          "len": 0.9,
          "pad": {
           "b": 10,
           "t": 50
          },
          "steps": [
           {
            "args": [
             [
              "2010"
             ],
             {
              "frame": {
               "duration": 300,
               "redraw": false
              },
              "mode": "immediate",
              "transition": {
               "duration": 300
              }
             }
            ],
            "label": "2010",
            "method": "animate"
           },
           {
            "args": [
             [
              "2011"
             ],
             {
              "frame": {
               "duration": 300,
               "redraw": false
              },
              "mode": "immediate",
              "transition": {
               "duration": 300
              }
             }
            ],
            "label": "2011",
            "method": "animate"
           },
           {
            "args": [
             [
              "2012"
             ],
             {
              "frame": {
               "duration": 300,
               "redraw": false
              },
              "mode": "immediate",
              "transition": {
               "duration": 300
              }
             }
            ],
            "label": "2012",
            "method": "animate"
           },
           {
            "args": [
             [
              "2013"
             ],
             {
              "frame": {
               "duration": 300,
               "redraw": false
              },
              "mode": "immediate",
              "transition": {
               "duration": 300
              }
             }
            ],
            "label": "2013",
            "method": "animate"
           },
           {
            "args": [
             [
              "2014"
             ],
             {
              "frame": {
               "duration": 300,
               "redraw": false
              },
              "mode": "immediate",
              "transition": {
               "duration": 300
              }
             }
            ],
            "label": "2014",
            "method": "animate"
           }
          ],
          "transition": {
           "duration": 300,
           "easing": "cubic-in-out"
          },
          "x": 0.1,
          "xanchor": "left",
          "y": 0,
          "yanchor": "top"
         }
        ],
        "title": "Cluster Performance",
        "updatemenus": [
         {
          "buttons": [
           {
            "args": [
             null,
             {
              "frame": {
               "duration": 500,
               "redraw": false
              },
              "fromcurrent": true,
              "transition": {
               "duration": 300,
               "easing": "quadratic-in-out"
              }
             }
            ],
            "label": "Play",
            "method": "animate"
           },
           {
            "args": [
             [
              null
             ],
             {
              "frame": {
               "duration": 0,
               "redraw": false
              },
              "mode": "immediate",
              "transition": {
               "duration": 0
              }
             }
            ],
            "label": "Pause",
            "method": "animate"
           }
          ],
          "direction": "left",
          "pad": {
           "r": 10,
           "t": 87
          },
          "showactive": false,
          "type": "buttons",
          "x": 0,
          "xanchor": "right",
          "y": 0,
          "yanchor": "top"
         }
        ],
        "width": 900,
        "xaxis": {
         "autorange": false,
         "range": [
          0,
          1.2
         ]
        },
        "yaxis": {
         "autorange": false,
         "range": [
          0,
          1.2
         ]
        }
       }
      },
      "text/html": [
       "<div id=\"1df2c80c-9fab-4f67-a23b-43d37dbe9bad\" style=\"height: 900px; width: 900px;\" class=\"plotly-graph-div\"></div><script type=\"text/javascript\">require([\"plotly\"], function(Plotly) { window.PLOTLYENV=window.PLOTLYENV || {};window.PLOTLYENV.BASE_URL=\"https://plot.ly\";\n",
       "        Plotly.plot(\n",
       "            '1df2c80c-9fab-4f67-a23b-43d37dbe9bad',\n",
       "            [{\"name\": \"Cluster 1\", \"text\": [\"ID: 1<br>Size: 10<br>MF: 0.30<br>UD: 0.50\"], \"y\": [0.5], \"mode\": \"markers\", \"hoverinfo\": \"text\", \"marker\": {\"color\": \"#1f77b4\", \"size\": [100]}, \"x\": [0.30000001192092896]}, {\"name\": \"Cluster 19\", \"text\": [\"ID: 19<br>Size: 16<br>MF: 0.40<br>UD: 0.80\"], \"y\": [0.800000011920929], \"mode\": \"markers\", \"hoverinfo\": \"text\", \"marker\": {\"color\": \"#ff7f0e\", \"size\": [160]}, \"x\": [0.4000000059604645]}, {\"name\": \"Cluster 24\", \"text\": [\"ID: 24<br>Size: 24<br>MF: 0.70<br>UD: 0.80\"], \"y\": [0.800000011920929], \"mode\": \"markers\", \"hoverinfo\": \"text\", \"marker\": {\"color\": \"#2ca02c\", \"size\": [240]}, \"x\": [0.699999988079071]}, {\"name\": \"Cluster 31\", \"text\": [\"ID: 31<br>Size: 2<br>MF: 0.10<br>UD: 0.80\"], \"y\": [0.800000011920929], \"mode\": \"markers\", \"hoverinfo\": \"text\", \"marker\": {\"color\": \"#d62728\", \"size\": [20]}, \"x\": [0.10000000149011612]}, {\"name\": \"Cluster 53\", \"text\": [\"ID: 53<br>Size: 29<br>MF: 0.20<br>UD: 0.10\"], \"y\": [0.10000000149011612], \"mode\": \"markers\", \"hoverinfo\": \"text\", \"marker\": {\"color\": \"#9467bd\", \"size\": [290]}, \"x\": [0.20000000298023224]}],\n",
       "            {\"showlegend\": true, \"title\": \"Cluster Performance\", \"yaxis\": {\"range\": [0, 1.2], \"autorange\": false}, \"updatemenus\": [{\"yanchor\": \"top\", \"direction\": \"left\", \"showactive\": false, \"xanchor\": \"right\", \"buttons\": [{\"args\": [null, {\"frame\": {\"duration\": 500, \"redraw\": false}, \"transition\": {\"duration\": 300, \"easing\": \"quadratic-in-out\"}, \"fromcurrent\": true}], \"method\": \"animate\", \"label\": \"Play\"}, {\"args\": [[null], {\"frame\": {\"duration\": 0, \"redraw\": false}, \"transition\": {\"duration\": 0}, \"mode\": \"immediate\"}], \"method\": \"animate\", \"label\": \"Pause\"}], \"pad\": {\"r\": 10, \"t\": 87}, \"y\": 0, \"x\": 0, \"type\": \"buttons\"}], \"height\": 900, \"sliders\": [{\"yanchor\": \"top\", \"currentvalue\": {\"visible\": true, \"prefix\": \"Year \", \"font\": {\"size\": 20}, \"xanchor\": \"right\"}, \"xanchor\": \"left\", \"transition\": {\"duration\": 300, \"easing\": \"cubic-in-out\"}, \"len\": 0.9, \"active\": 0, \"pad\": {\"b\": 10, \"t\": 50}, \"x\": 0.1, \"y\": 0, \"steps\": [{\"args\": [[\"2010\"], {\"frame\": {\"duration\": 300, \"redraw\": false}, \"transition\": {\"duration\": 300}, \"mode\": \"immediate\"}], \"method\": \"animate\", \"label\": \"2010\"}, {\"args\": [[\"2011\"], {\"frame\": {\"duration\": 300, \"redraw\": false}, \"transition\": {\"duration\": 300}, \"mode\": \"immediate\"}], \"method\": \"animate\", \"label\": \"2011\"}, {\"args\": [[\"2012\"], {\"frame\": {\"duration\": 300, \"redraw\": false}, \"transition\": {\"duration\": 300}, \"mode\": \"immediate\"}], \"method\": \"animate\", \"label\": \"2012\"}, {\"args\": [[\"2013\"], {\"frame\": {\"duration\": 300, \"redraw\": false}, \"transition\": {\"duration\": 300}, \"mode\": \"immediate\"}], \"method\": \"animate\", \"label\": \"2013\"}, {\"args\": [[\"2014\"], {\"frame\": {\"duration\": 300, \"redraw\": false}, \"transition\": {\"duration\": 300}, \"mode\": \"immediate\"}], \"method\": \"animate\", \"label\": \"2014\"}]}], \"xaxis\": {\"range\": [0, 1.2], \"autorange\": false}, \"width\": 900},\n",
       "            {\"linkText\": \"Export to plot.ly\", \"showLink\": true}\n",
       "        ).then(function () {return Plotly.addFrames('1df2c80c-9fab-4f67-a23b-43d37dbe9bad',[{\"data\": [{\"name\": \"Cluster 1\", \"text\": [\"ID: 1<br>Size: 10<br>MF: 0.30<br>UD: 0.50\"], \"y\": [0.5], \"mode\": \"markers\", \"hoverinfo\": \"text\", \"marker\": {\"color\": \"#1f77b4\", \"size\": [100]}, \"x\": [0.30000001192092896]}, {\"name\": \"Cluster 19\", \"text\": [\"ID: 19<br>Size: 16<br>MF: 0.40<br>UD: 0.80\"], \"y\": [0.800000011920929], \"mode\": \"markers\", \"hoverinfo\": \"text\", \"marker\": {\"color\": \"#ff7f0e\", \"size\": [160]}, \"x\": [0.4000000059604645]}, {\"name\": \"Cluster 24\", \"text\": [\"ID: 24<br>Size: 24<br>MF: 0.70<br>UD: 0.80\"], \"y\": [0.800000011920929], \"mode\": \"markers\", \"hoverinfo\": \"text\", \"marker\": {\"color\": \"#2ca02c\", \"size\": [240]}, \"x\": [0.699999988079071]}, {\"name\": \"Cluster 31\", \"text\": [\"ID: 31<br>Size: 2<br>MF: 0.10<br>UD: 0.80\"], \"y\": [0.800000011920929], \"mode\": \"markers\", \"hoverinfo\": \"text\", \"marker\": {\"color\": \"#d62728\", \"size\": [20]}, \"x\": [0.10000000149011612]}, {\"name\": \"Cluster 53\", \"text\": [\"ID: 53<br>Size: 29<br>MF: 0.20<br>UD: 0.10\"], \"y\": [0.10000000149011612], \"mode\": \"markers\", \"hoverinfo\": \"text\", \"marker\": {\"color\": \"#9467bd\", \"size\": [290]}, \"x\": [0.20000000298023224]}], \"name\": \"2010\"}, {\"data\": [{\"name\": \"Cluster 1\", \"text\": [\"ID: 1<br>Size: 10<br>MF: 0.80<br>UD: 0.90\"], \"y\": [0.8999999761581421], \"mode\": \"markers\", \"hoverinfo\": \"text\", \"marker\": {\"color\": \"#1f77b4\", \"size\": [100]}, \"x\": [0.800000011920929]}, {\"name\": \"Cluster 19\", \"text\": [\"ID: 19<br>Size: 16<br>MF: 0.20<br>UD: 0.70\"], \"y\": [0.699999988079071], \"mode\": \"markers\", \"hoverinfo\": \"text\", \"marker\": {\"color\": \"#ff7f0e\", \"size\": [160]}, \"x\": [0.20000000298023224]}, {\"name\": \"Cluster 24\", \"text\": [\"ID: 24<br>Size: 24<br>MF: 0.70<br>UD: 0.90\"], \"y\": [0.8999999761581421], \"mode\": \"markers\", \"hoverinfo\": \"text\", \"marker\": {\"color\": \"#2ca02c\", \"size\": [240]}, \"x\": [0.699999988079071]}, {\"name\": \"Cluster 31\", \"text\": [\"ID: 31<br>Size: 2<br>MF: 0.20<br>UD: 0.90\"], \"y\": [0.8999999761581421], \"mode\": \"markers\", \"hoverinfo\": \"text\", \"marker\": {\"color\": \"#d62728\", \"size\": [20]}, \"x\": [0.20000000298023224]}, {\"name\": \"Cluster 53\", \"text\": [\"ID: 53<br>Size: 29<br>MF: 0.70<br>UD: 0.20\"], \"y\": [0.20000000298023224], \"mode\": \"markers\", \"hoverinfo\": \"text\", \"marker\": {\"color\": \"#9467bd\", \"size\": [290]}, \"x\": [0.699999988079071]}], \"name\": \"2011\"}, {\"data\": [{\"name\": \"Cluster 1\", \"text\": [\"ID: 1<br>Size: 10<br>MF: 0.30<br>UD: 0.30\"], \"y\": [0.30000001192092896], \"mode\": \"markers\", \"hoverinfo\": \"text\", \"marker\": {\"color\": \"#1f77b4\", \"size\": [100]}, \"x\": [0.30000001192092896]}, {\"name\": \"Cluster 19\", \"text\": [\"ID: 19<br>Size: 16<br>MF: 0.10<br>UD: 0.40\"], \"y\": [0.4000000059604645], \"mode\": \"markers\", \"hoverinfo\": \"text\", \"marker\": {\"color\": \"#ff7f0e\", \"size\": [160]}, \"x\": [0.10000000149011612]}, {\"name\": \"Cluster 24\", \"text\": [\"ID: 24<br>Size: 24<br>MF: 0.30<br>UD: 0.90\"], \"y\": [0.8999999761581421], \"mode\": \"markers\", \"hoverinfo\": \"text\", \"marker\": {\"color\": \"#2ca02c\", \"size\": [240]}, \"x\": [0.30000001192092896]}, {\"name\": \"Cluster 31\", \"text\": [\"ID: 31<br>Size: 2<br>MF: 0.40<br>UD: 0.40\"], \"y\": [0.4000000059604645], \"mode\": \"markers\", \"hoverinfo\": \"text\", \"marker\": {\"color\": \"#d62728\", \"size\": [20]}, \"x\": [0.4000000059604645]}, {\"name\": \"Cluster 53\", \"text\": [\"ID: 53<br>Size: 29<br>MF: 0.80<br>UD: 0.10\"], \"y\": [0.10000000149011612], \"mode\": \"markers\", \"hoverinfo\": \"text\", \"marker\": {\"color\": \"#9467bd\", \"size\": [290]}, \"x\": [0.800000011920929]}], \"name\": \"2012\"}, {\"data\": [{\"name\": \"Cluster 1\", \"text\": [\"ID: 1<br>Size: 10<br>MF: 0.30<br>UD: 0.60\"], \"y\": [0.6000000238418579], \"mode\": \"markers\", \"hoverinfo\": \"text\", \"marker\": {\"color\": \"#1f77b4\", \"size\": [100]}, \"x\": [0.30000001192092896]}, {\"name\": \"Cluster 19\", \"text\": [\"ID: 19<br>Size: 16<br>MF: 0.20<br>UD: 0.30\"], \"y\": [0.30000001192092896], \"mode\": \"markers\", \"hoverinfo\": \"text\", \"marker\": {\"color\": \"#ff7f0e\", \"size\": [160]}, \"x\": [0.20000000298023224]}, {\"name\": \"Cluster 24\", \"text\": [\"ID: 24<br>Size: 24<br>MF: 0.60<br>UD: 0.10\"], \"y\": [0.10000000149011612], \"mode\": \"markers\", \"hoverinfo\": \"text\", \"marker\": {\"color\": \"#2ca02c\", \"size\": [240]}, \"x\": [0.6000000238418579]}, {\"name\": \"Cluster 31\", \"text\": [\"ID: 31<br>Size: 2<br>MF: 0.20<br>UD: 0.60\"], \"y\": [0.6000000238418579], \"mode\": \"markers\", \"hoverinfo\": \"text\", \"marker\": {\"color\": \"#d62728\", \"size\": [20]}, \"x\": [0.20000000298023224]}, {\"name\": \"Cluster 53\", \"text\": [\"ID: 53<br>Size: 29<br>MF: 0.20<br>UD: 0.90\"], \"y\": [0.8999999761581421], \"mode\": \"markers\", \"hoverinfo\": \"text\", \"marker\": {\"color\": \"#9467bd\", \"size\": [290]}, \"x\": [0.20000000298023224]}], \"name\": \"2013\"}, {\"data\": [{\"name\": \"Cluster 1\", \"text\": [\"ID: 1<br>Size: 10<br>MF: 0.30<br>UD: 0.50\"], \"y\": [0.5], \"mode\": \"markers\", \"hoverinfo\": \"text\", \"marker\": {\"color\": \"#1f77b4\", \"size\": [100]}, \"x\": [0.30000001192092896]}, {\"name\": \"Cluster 19\", \"text\": [\"ID: 19<br>Size: 16<br>MF: 0.80<br>UD: 0.50\"], \"y\": [0.5], \"mode\": \"markers\", \"hoverinfo\": \"text\", \"marker\": {\"color\": \"#ff7f0e\", \"size\": [160]}, \"x\": [0.800000011920929]}, {\"name\": \"Cluster 24\", \"text\": [\"ID: 24<br>Size: 24<br>MF: 0.10<br>UD: 0.50\"], \"y\": [0.5], \"mode\": \"markers\", \"hoverinfo\": \"text\", \"marker\": {\"color\": \"#2ca02c\", \"size\": [240]}, \"x\": [0.10000000149011612]}, {\"name\": \"Cluster 31\", \"text\": [\"ID: 31<br>Size: 2<br>MF: 0.50<br>UD: 0.50\"], \"y\": [0.5], \"mode\": \"markers\", \"hoverinfo\": \"text\", \"marker\": {\"color\": \"#d62728\", \"size\": [20]}, \"x\": [0.5]}, {\"name\": \"Cluster 53\", \"text\": [\"ID: 53<br>Size: 29<br>MF: 0.50<br>UD: 0.50\"], \"y\": [0.5], \"mode\": \"markers\", \"hoverinfo\": \"text\", \"marker\": {\"color\": \"#9467bd\", \"size\": [290]}, \"x\": [0.5]}], \"name\": \"2014\"}]);}).then(function(){Plotly.animate('1df2c80c-9fab-4f67-a23b-43d37dbe9bad');})\n",
       "        });</script>"
      ],
      "text/vnd.plotly.v1+html": [
       "<div id=\"1df2c80c-9fab-4f67-a23b-43d37dbe9bad\" style=\"height: 900px; width: 900px;\" class=\"plotly-graph-div\"></div><script type=\"text/javascript\">require([\"plotly\"], function(Plotly) { window.PLOTLYENV=window.PLOTLYENV || {};window.PLOTLYENV.BASE_URL=\"https://plot.ly\";\n",
       "        Plotly.plot(\n",
       "            '1df2c80c-9fab-4f67-a23b-43d37dbe9bad',\n",
       "            [{\"name\": \"Cluster 1\", \"text\": [\"ID: 1<br>Size: 10<br>MF: 0.30<br>UD: 0.50\"], \"y\": [0.5], \"mode\": \"markers\", \"hoverinfo\": \"text\", \"marker\": {\"color\": \"#1f77b4\", \"size\": [100]}, \"x\": [0.30000001192092896]}, {\"name\": \"Cluster 19\", \"text\": [\"ID: 19<br>Size: 16<br>MF: 0.40<br>UD: 0.80\"], \"y\": [0.800000011920929], \"mode\": \"markers\", \"hoverinfo\": \"text\", \"marker\": {\"color\": \"#ff7f0e\", \"size\": [160]}, \"x\": [0.4000000059604645]}, {\"name\": \"Cluster 24\", \"text\": [\"ID: 24<br>Size: 24<br>MF: 0.70<br>UD: 0.80\"], \"y\": [0.800000011920929], \"mode\": \"markers\", \"hoverinfo\": \"text\", \"marker\": {\"color\": \"#2ca02c\", \"size\": [240]}, \"x\": [0.699999988079071]}, {\"name\": \"Cluster 31\", \"text\": [\"ID: 31<br>Size: 2<br>MF: 0.10<br>UD: 0.80\"], \"y\": [0.800000011920929], \"mode\": \"markers\", \"hoverinfo\": \"text\", \"marker\": {\"color\": \"#d62728\", \"size\": [20]}, \"x\": [0.10000000149011612]}, {\"name\": \"Cluster 53\", \"text\": [\"ID: 53<br>Size: 29<br>MF: 0.20<br>UD: 0.10\"], \"y\": [0.10000000149011612], \"mode\": \"markers\", \"hoverinfo\": \"text\", \"marker\": {\"color\": \"#9467bd\", \"size\": [290]}, \"x\": [0.20000000298023224]}],\n",
       "            {\"showlegend\": true, \"title\": \"Cluster Performance\", \"yaxis\": {\"range\": [0, 1.2], \"autorange\": false}, \"updatemenus\": [{\"yanchor\": \"top\", \"direction\": \"left\", \"showactive\": false, \"xanchor\": \"right\", \"buttons\": [{\"args\": [null, {\"frame\": {\"duration\": 500, \"redraw\": false}, \"transition\": {\"duration\": 300, \"easing\": \"quadratic-in-out\"}, \"fromcurrent\": true}], \"method\": \"animate\", \"label\": \"Play\"}, {\"args\": [[null], {\"frame\": {\"duration\": 0, \"redraw\": false}, \"transition\": {\"duration\": 0}, \"mode\": \"immediate\"}], \"method\": \"animate\", \"label\": \"Pause\"}], \"pad\": {\"r\": 10, \"t\": 87}, \"y\": 0, \"x\": 0, \"type\": \"buttons\"}], \"height\": 900, \"sliders\": [{\"yanchor\": \"top\", \"currentvalue\": {\"visible\": true, \"prefix\": \"Year \", \"font\": {\"size\": 20}, \"xanchor\": \"right\"}, \"xanchor\": \"left\", \"transition\": {\"duration\": 300, \"easing\": \"cubic-in-out\"}, \"len\": 0.9, \"active\": 0, \"pad\": {\"b\": 10, \"t\": 50}, \"x\": 0.1, \"y\": 0, \"steps\": [{\"args\": [[\"2010\"], {\"frame\": {\"duration\": 300, \"redraw\": false}, \"transition\": {\"duration\": 300}, \"mode\": \"immediate\"}], \"method\": \"animate\", \"label\": \"2010\"}, {\"args\": [[\"2011\"], {\"frame\": {\"duration\": 300, \"redraw\": false}, \"transition\": {\"duration\": 300}, \"mode\": \"immediate\"}], \"method\": \"animate\", \"label\": \"2011\"}, {\"args\": [[\"2012\"], {\"frame\": {\"duration\": 300, \"redraw\": false}, \"transition\": {\"duration\": 300}, \"mode\": \"immediate\"}], \"method\": \"animate\", \"label\": \"2012\"}, {\"args\": [[\"2013\"], {\"frame\": {\"duration\": 300, \"redraw\": false}, \"transition\": {\"duration\": 300}, \"mode\": \"immediate\"}], \"method\": \"animate\", \"label\": \"2013\"}, {\"args\": [[\"2014\"], {\"frame\": {\"duration\": 300, \"redraw\": false}, \"transition\": {\"duration\": 300}, \"mode\": \"immediate\"}], \"method\": \"animate\", \"label\": \"2014\"}]}], \"xaxis\": {\"range\": [0, 1.2], \"autorange\": false}, \"width\": 900},\n",
       "            {\"linkText\": \"Export to plot.ly\", \"showLink\": true}\n",
       "        ).then(function () {return Plotly.addFrames('1df2c80c-9fab-4f67-a23b-43d37dbe9bad',[{\"data\": [{\"name\": \"Cluster 1\", \"text\": [\"ID: 1<br>Size: 10<br>MF: 0.30<br>UD: 0.50\"], \"y\": [0.5], \"mode\": \"markers\", \"hoverinfo\": \"text\", \"marker\": {\"color\": \"#1f77b4\", \"size\": [100]}, \"x\": [0.30000001192092896]}, {\"name\": \"Cluster 19\", \"text\": [\"ID: 19<br>Size: 16<br>MF: 0.40<br>UD: 0.80\"], \"y\": [0.800000011920929], \"mode\": \"markers\", \"hoverinfo\": \"text\", \"marker\": {\"color\": \"#ff7f0e\", \"size\": [160]}, \"x\": [0.4000000059604645]}, {\"name\": \"Cluster 24\", \"text\": [\"ID: 24<br>Size: 24<br>MF: 0.70<br>UD: 0.80\"], \"y\": [0.800000011920929], \"mode\": \"markers\", \"hoverinfo\": \"text\", \"marker\": {\"color\": \"#2ca02c\", \"size\": [240]}, \"x\": [0.699999988079071]}, {\"name\": \"Cluster 31\", \"text\": [\"ID: 31<br>Size: 2<br>MF: 0.10<br>UD: 0.80\"], \"y\": [0.800000011920929], \"mode\": \"markers\", \"hoverinfo\": \"text\", \"marker\": {\"color\": \"#d62728\", \"size\": [20]}, \"x\": [0.10000000149011612]}, {\"name\": \"Cluster 53\", \"text\": [\"ID: 53<br>Size: 29<br>MF: 0.20<br>UD: 0.10\"], \"y\": [0.10000000149011612], \"mode\": \"markers\", \"hoverinfo\": \"text\", \"marker\": {\"color\": \"#9467bd\", \"size\": [290]}, \"x\": [0.20000000298023224]}], \"name\": \"2010\"}, {\"data\": [{\"name\": \"Cluster 1\", \"text\": [\"ID: 1<br>Size: 10<br>MF: 0.80<br>UD: 0.90\"], \"y\": [0.8999999761581421], \"mode\": \"markers\", \"hoverinfo\": \"text\", \"marker\": {\"color\": \"#1f77b4\", \"size\": [100]}, \"x\": [0.800000011920929]}, {\"name\": \"Cluster 19\", \"text\": [\"ID: 19<br>Size: 16<br>MF: 0.20<br>UD: 0.70\"], \"y\": [0.699999988079071], \"mode\": \"markers\", \"hoverinfo\": \"text\", \"marker\": {\"color\": \"#ff7f0e\", \"size\": [160]}, \"x\": [0.20000000298023224]}, {\"name\": \"Cluster 24\", \"text\": [\"ID: 24<br>Size: 24<br>MF: 0.70<br>UD: 0.90\"], \"y\": [0.8999999761581421], \"mode\": \"markers\", \"hoverinfo\": \"text\", \"marker\": {\"color\": \"#2ca02c\", \"size\": [240]}, \"x\": [0.699999988079071]}, {\"name\": \"Cluster 31\", \"text\": [\"ID: 31<br>Size: 2<br>MF: 0.20<br>UD: 0.90\"], \"y\": [0.8999999761581421], \"mode\": \"markers\", \"hoverinfo\": \"text\", \"marker\": {\"color\": \"#d62728\", \"size\": [20]}, \"x\": [0.20000000298023224]}, {\"name\": \"Cluster 53\", \"text\": [\"ID: 53<br>Size: 29<br>MF: 0.70<br>UD: 0.20\"], \"y\": [0.20000000298023224], \"mode\": \"markers\", \"hoverinfo\": \"text\", \"marker\": {\"color\": \"#9467bd\", \"size\": [290]}, \"x\": [0.699999988079071]}], \"name\": \"2011\"}, {\"data\": [{\"name\": \"Cluster 1\", \"text\": [\"ID: 1<br>Size: 10<br>MF: 0.30<br>UD: 0.30\"], \"y\": [0.30000001192092896], \"mode\": \"markers\", \"hoverinfo\": \"text\", \"marker\": {\"color\": \"#1f77b4\", \"size\": [100]}, \"x\": [0.30000001192092896]}, {\"name\": \"Cluster 19\", \"text\": [\"ID: 19<br>Size: 16<br>MF: 0.10<br>UD: 0.40\"], \"y\": [0.4000000059604645], \"mode\": \"markers\", \"hoverinfo\": \"text\", \"marker\": {\"color\": \"#ff7f0e\", \"size\": [160]}, \"x\": [0.10000000149011612]}, {\"name\": \"Cluster 24\", \"text\": [\"ID: 24<br>Size: 24<br>MF: 0.30<br>UD: 0.90\"], \"y\": [0.8999999761581421], \"mode\": \"markers\", \"hoverinfo\": \"text\", \"marker\": {\"color\": \"#2ca02c\", \"size\": [240]}, \"x\": [0.30000001192092896]}, {\"name\": \"Cluster 31\", \"text\": [\"ID: 31<br>Size: 2<br>MF: 0.40<br>UD: 0.40\"], \"y\": [0.4000000059604645], \"mode\": \"markers\", \"hoverinfo\": \"text\", \"marker\": {\"color\": \"#d62728\", \"size\": [20]}, \"x\": [0.4000000059604645]}, {\"name\": \"Cluster 53\", \"text\": [\"ID: 53<br>Size: 29<br>MF: 0.80<br>UD: 0.10\"], \"y\": [0.10000000149011612], \"mode\": \"markers\", \"hoverinfo\": \"text\", \"marker\": {\"color\": \"#9467bd\", \"size\": [290]}, \"x\": [0.800000011920929]}], \"name\": \"2012\"}, {\"data\": [{\"name\": \"Cluster 1\", \"text\": [\"ID: 1<br>Size: 10<br>MF: 0.30<br>UD: 0.60\"], \"y\": [0.6000000238418579], \"mode\": \"markers\", \"hoverinfo\": \"text\", \"marker\": {\"color\": \"#1f77b4\", \"size\": [100]}, \"x\": [0.30000001192092896]}, {\"name\": \"Cluster 19\", \"text\": [\"ID: 19<br>Size: 16<br>MF: 0.20<br>UD: 0.30\"], \"y\": [0.30000001192092896], \"mode\": \"markers\", \"hoverinfo\": \"text\", \"marker\": {\"color\": \"#ff7f0e\", \"size\": [160]}, \"x\": [0.20000000298023224]}, {\"name\": \"Cluster 24\", \"text\": [\"ID: 24<br>Size: 24<br>MF: 0.60<br>UD: 0.10\"], \"y\": [0.10000000149011612], \"mode\": \"markers\", \"hoverinfo\": \"text\", \"marker\": {\"color\": \"#2ca02c\", \"size\": [240]}, \"x\": [0.6000000238418579]}, {\"name\": \"Cluster 31\", \"text\": [\"ID: 31<br>Size: 2<br>MF: 0.20<br>UD: 0.60\"], \"y\": [0.6000000238418579], \"mode\": \"markers\", \"hoverinfo\": \"text\", \"marker\": {\"color\": \"#d62728\", \"size\": [20]}, \"x\": [0.20000000298023224]}, {\"name\": \"Cluster 53\", \"text\": [\"ID: 53<br>Size: 29<br>MF: 0.20<br>UD: 0.90\"], \"y\": [0.8999999761581421], \"mode\": \"markers\", \"hoverinfo\": \"text\", \"marker\": {\"color\": \"#9467bd\", \"size\": [290]}, \"x\": [0.20000000298023224]}], \"name\": \"2013\"}, {\"data\": [{\"name\": \"Cluster 1\", \"text\": [\"ID: 1<br>Size: 10<br>MF: 0.30<br>UD: 0.50\"], \"y\": [0.5], \"mode\": \"markers\", \"hoverinfo\": \"text\", \"marker\": {\"color\": \"#1f77b4\", \"size\": [100]}, \"x\": [0.30000001192092896]}, {\"name\": \"Cluster 19\", \"text\": [\"ID: 19<br>Size: 16<br>MF: 0.80<br>UD: 0.50\"], \"y\": [0.5], \"mode\": \"markers\", \"hoverinfo\": \"text\", \"marker\": {\"color\": \"#ff7f0e\", \"size\": [160]}, \"x\": [0.800000011920929]}, {\"name\": \"Cluster 24\", \"text\": [\"ID: 24<br>Size: 24<br>MF: 0.10<br>UD: 0.50\"], \"y\": [0.5], \"mode\": \"markers\", \"hoverinfo\": \"text\", \"marker\": {\"color\": \"#2ca02c\", \"size\": [240]}, \"x\": [0.10000000149011612]}, {\"name\": \"Cluster 31\", \"text\": [\"ID: 31<br>Size: 2<br>MF: 0.50<br>UD: 0.50\"], \"y\": [0.5], \"mode\": \"markers\", \"hoverinfo\": \"text\", \"marker\": {\"color\": \"#d62728\", \"size\": [20]}, \"x\": [0.5]}, {\"name\": \"Cluster 53\", \"text\": [\"ID: 53<br>Size: 29<br>MF: 0.50<br>UD: 0.50\"], \"y\": [0.5], \"mode\": \"markers\", \"hoverinfo\": \"text\", \"marker\": {\"color\": \"#9467bd\", \"size\": [290]}, \"x\": [0.5]}], \"name\": \"2014\"}]);}).then(function(){Plotly.animate('1df2c80c-9fab-4f67-a23b-43d37dbe9bad');})\n",
       "        });</script>"
      ]
     },
     "metadata": {},
     "output_type": "display_data"
    }
   ],
   "source": [
    "animate_clusters(metricDF)"
   ]
  }
 ],
 "metadata": {
  "kernelspec": {
   "display_name": "Python 2",
   "language": "python",
   "name": "python2"
  },
  "language_info": {
   "codemirror_mode": {
    "name": "ipython",
    "version": 2
   },
   "file_extension": ".py",
   "mimetype": "text/x-python",
   "name": "python",
   "nbconvert_exporter": "python",
   "pygments_lexer": "ipython2",
   "version": "2.7.13"
  }
 },
 "nbformat": 4,
 "nbformat_minor": 2
}
