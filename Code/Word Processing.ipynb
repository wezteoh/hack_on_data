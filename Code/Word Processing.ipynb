{
 "cells": [
  {
   "cell_type": "markdown",
   "metadata": {},
   "source": [
    "# Introduction\n",
    "This notebook contains a `Python 2` / `PySpark` script to find the top $N$ words for the positive and negative reviews in a given cluster."
   ]
  },
  {
   "cell_type": "markdown",
   "metadata": {},
   "source": [
    "# Notebook Setup"
   ]
  },
  {
   "cell_type": "markdown",
   "metadata": {},
   "source": [
    "## Initialise modules"
   ]
  },
  {
   "cell_type": "code",
   "execution_count": 34,
   "metadata": {},
   "outputs": [],
   "source": [
    "import findspark\n",
    "import pyspark\n",
    "import pyspark.sql.functions as F\n",
    "import pyspark.sql.types as T\n",
    "import pymongo\n",
    "import pandas as pd\n",
    "import gzip # To parse gzip file\n",
    "import re # Regex for text processing\n",
    "import os # For setting up Mongo-Spark connector\n",
    "import csv # To read/write CSV files"
   ]
  },
  {
   "cell_type": "markdown",
   "metadata": {},
   "source": [
    "## Initialise PySpark session"
   ]
  },
  {
   "cell_type": "markdown",
   "metadata": {},
   "source": [
    "Load `MongoDB-Spark` connector when starting up `PySpark`."
   ]
  },
  {
   "cell_type": "code",
   "execution_count": 35,
   "metadata": {
    "collapsed": true
   },
   "outputs": [],
   "source": [
    "packages = 'org.mongodb.spark:mongo-spark-connector_2.11:2.2.0'\n",
    "dedicated_memory = '4g'\n",
    "\n",
    "os.environ['PYSPARK_SUBMIT_ARGS'] = '--packages {} --driver-memory {} pyspark-shell' \\\n",
    "    .format(packages, dedicated_memory)"
   ]
  },
  {
   "cell_type": "code",
   "execution_count": 36,
   "metadata": {
    "collapsed": true
   },
   "outputs": [],
   "source": [
    "# Find SPARK_HOME\n",
    "findspark.init()\n",
    "\n",
    "# Create SparkSession\n",
    "spark = (pyspark.sql.SparkSession\n",
    "         .builder.appName('WordProcessing')\n",
    "         .getOrCreate())"
   ]
  },
  {
   "cell_type": "markdown",
   "metadata": {},
   "source": [
    "## Configure Pandas HTML display"
   ]
  },
  {
   "cell_type": "code",
   "execution_count": 37,
   "metadata": {
    "collapsed": true
   },
   "outputs": [],
   "source": [
    "pd.set_option('display.max_colwidth', -1)"
   ]
  },
  {
   "cell_type": "markdown",
   "metadata": {},
   "source": [
    "## Define helper methods"
   ]
  },
  {
   "cell_type": "code",
   "execution_count": 63,
   "metadata": {
    "code_folding": [
     0,
     8,
     38
    ],
    "collapsed": true
   },
   "outputs": [],
   "source": [
    "def parse(path):\n",
    "    '''\n",
    "    Unzip a json.gz at `path` and returns a generator.\n",
    "    '''\n",
    "    g = gzip.open(path, 'rb')\n",
    "    for line in g:\n",
    "        yield eval(line)\n",
    "\n",
    "def import_to_mongo(path, coll, db='hackon', create_index=True):\n",
    "    '''\n",
    "    Unzip and import json.gz file from `path` and loads it into mongo server.\n",
    "    Create database index if `create_index` is True. \n",
    "    '''\n",
    "    # Obtain handle to Mongo database and collection\n",
    "    client = pymongo.MongoClient()\n",
    "    collection = client[db][coll]\n",
    "    \n",
    "    # Return prematurely if database.collection already exists\n",
    "    if (collection.count() != 0):\n",
    "        print '{}.{} already exists on MongoDisk server. Exiting without loading JSON data.'.format(db, coll)\n",
    "        return\n",
    "    \n",
    "    # Insert datapoints into Mongo database\n",
    "    try:\n",
    "        collection.insert_many((datapoint for datapoint in parse(path)))\n",
    "        print 'JSON data successfully imported to Mongo at \\'{}.{}.\\''.format(db, coll)\n",
    "    except Exception as e:\n",
    "        print 'Error loading data.\\n{}'.format(e)\n",
    "        client.close()\n",
    "        return\n",
    "    \n",
    "    if not create_index:\n",
    "        client.close()\n",
    "        return\n",
    "    \n",
    "    # Create database index for improved searching\n",
    "    # collection.create_index([('asin', pymongo.ASCENDING), ('reviewerID', pymongo.DESCENDING)])\n",
    "\n",
    "def load_mongo_to_spark(coll, db='hackon'):\n",
    "    '''\n",
    "    Load the Mongo database to a Spark Session and returns the Spark DataFrame\n",
    "    '''\n",
    "    try:\n",
    "        return (spark\n",
    "                .read\n",
    "                .format('com.mongodb.spark.sql.DefaultSource')\n",
    "                .option('uri', 'mongodb://127.0.0.1/{}.{}'.format(db, coll))\n",
    "                .load())\n",
    "    except Exception as e:\n",
    "        print 'Failed to create Spark dataframe.\\n{}'.format(e)\n",
    "\n",
    "def displayDF(sparkDF, n=10):\n",
    "    '''\n",
    "    Interactively displays the first n rows of a sparkDF as a pandas dataframe\n",
    "    '''\n",
    "    print 'Count: {}'.format(sparkDF.count())\n",
    "        \n",
    "    return (sparkDF\n",
    "            .limit(n)\n",
    "            .drop('_id', 'unixReviewTime')\n",
    "            .toPandas())"
   ]
  },
  {
   "cell_type": "code",
   "execution_count": 400,
   "metadata": {},
   "outputs": [
    {
     "name": "stdout",
     "output_type": "stream",
     "text": [
      "hackon.baby already exists on MongoDisk server. Exiting without loading JSON data.\n"
     ]
    }
   ],
   "source": [
    "import_to_mongo('../../Datasets/reviews_Baby.json.gz', coll='baby')"
   ]
  },
  {
   "cell_type": "markdown",
   "metadata": {},
   "source": [
    "# Word Processing Script"
   ]
  },
  {
   "cell_type": "markdown",
   "metadata": {},
   "source": [
    "The function below takes in a Spark DataFrame containing reviews of a particular cluster. It returns a new DataFrame with two appended columns listing the top $N$ words based on *tf-idf* scores for good and bad reviews. \n",
    "\n",
    "> By default, *good reviews* are defined as reviews with **4-star** ratings and above, with the rest defined as *bad reviews*."
   ]
  },
  {
   "cell_type": "markdown",
   "metadata": {},
   "source": [
    "## Load Mongo toy dataset"
   ]
  },
  {
   "cell_type": "code",
   "execution_count": 39,
   "metadata": {
    "scrolled": false
   },
   "outputs": [
    {
     "name": "stdout",
     "output_type": "stream",
     "text": [
      "Count: 18860\n"
     ]
    },
    {
     "data": {
      "text/html": [
       "<div>\n",
       "<style>\n",
       "    .dataframe thead tr:only-child th {\n",
       "        text-align: right;\n",
       "    }\n",
       "\n",
       "    .dataframe thead th {\n",
       "        text-align: left;\n",
       "    }\n",
       "\n",
       "    .dataframe tbody tr th {\n",
       "        vertical-align: top;\n",
       "    }\n",
       "</style>\n",
       "<table border=\"1\" class=\"dataframe\">\n",
       "  <thead>\n",
       "    <tr style=\"text-align: right;\">\n",
       "      <th></th>\n",
       "      <th>asin</th>\n",
       "      <th>clusterId</th>\n",
       "    </tr>\n",
       "  </thead>\n",
       "  <tbody>\n",
       "    <tr>\n",
       "      <th>0</th>\n",
       "      <td>0615447279</td>\n",
       "      <td>1720</td>\n",
       "    </tr>\n",
       "    <tr>\n",
       "      <th>1</th>\n",
       "      <td>097293751X</td>\n",
       "      <td>802</td>\n",
       "    </tr>\n",
       "    <tr>\n",
       "      <th>2</th>\n",
       "      <td>0980027500</td>\n",
       "      <td>1032</td>\n",
       "    </tr>\n",
       "    <tr>\n",
       "      <th>3</th>\n",
       "      <td>0980027586</td>\n",
       "      <td>308</td>\n",
       "    </tr>\n",
       "    <tr>\n",
       "      <th>4</th>\n",
       "      <td>0980027594</td>\n",
       "      <td>887</td>\n",
       "    </tr>\n",
       "    <tr>\n",
       "      <th>5</th>\n",
       "      <td>1586637304</td>\n",
       "      <td>1169</td>\n",
       "    </tr>\n",
       "    <tr>\n",
       "      <th>6</th>\n",
       "      <td>1592922929</td>\n",
       "      <td>658</td>\n",
       "    </tr>\n",
       "    <tr>\n",
       "      <th>7</th>\n",
       "      <td>1592923216</td>\n",
       "      <td>1057</td>\n",
       "    </tr>\n",
       "    <tr>\n",
       "      <th>8</th>\n",
       "      <td>1592920527</td>\n",
       "      <td>845</td>\n",
       "    </tr>\n",
       "    <tr>\n",
       "      <th>9</th>\n",
       "      <td>1592924409</td>\n",
       "      <td>1720</td>\n",
       "    </tr>\n",
       "  </tbody>\n",
       "</table>\n",
       "</div>"
      ],
      "text/plain": [
       "         asin  clusterId\n",
       "0  0615447279  1720     \n",
       "1  097293751X  802      \n",
       "2  0980027500  1032     \n",
       "3  0980027586  308      \n",
       "4  0980027594  887      \n",
       "5  1586637304  1169     \n",
       "6  1592922929  658      \n",
       "7  1592923216  1057     \n",
       "8  1592920527  845      \n",
       "9  1592924409  1720     "
      ]
     },
     "execution_count": 39,
     "metadata": {},
     "output_type": "execute_result"
    }
   ],
   "source": [
    "clusteredProductMetaDF = (spark\n",
    "         .read\n",
    "         .format('com.databricks.spark.csv')\n",
    "         .options(header='true', inferschema='true')\n",
    "         .load('../../Datasets/baby_2000_2_cluster_df.csv')\n",
    "         .drop('_c0')\n",
    "         .dropna()\n",
    "         )\n",
    "displayDF(clusteredProductMetaDF)"
   ]
  },
  {
   "cell_type": "code",
   "execution_count": 40,
   "metadata": {},
   "outputs": [
    {
     "name": "stdout",
     "output_type": "stream",
     "text": [
      "Count: 915446\n"
     ]
    },
    {
     "data": {
      "text/html": [
       "<div>\n",
       "<style>\n",
       "    .dataframe thead tr:only-child th {\n",
       "        text-align: right;\n",
       "    }\n",
       "\n",
       "    .dataframe thead th {\n",
       "        text-align: left;\n",
       "    }\n",
       "\n",
       "    .dataframe tbody tr th {\n",
       "        vertical-align: top;\n",
       "    }\n",
       "</style>\n",
       "<table border=\"1\" class=\"dataframe\">\n",
       "  <thead>\n",
       "    <tr style=\"text-align: right;\">\n",
       "      <th></th>\n",
       "      <th>asin</th>\n",
       "      <th>helpful</th>\n",
       "      <th>overall</th>\n",
       "      <th>reviewText</th>\n",
       "      <th>reviewTime</th>\n",
       "      <th>reviewerID</th>\n",
       "      <th>reviewerName</th>\n",
       "      <th>summary</th>\n",
       "    </tr>\n",
       "  </thead>\n",
       "  <tbody>\n",
       "    <tr>\n",
       "      <th>0</th>\n",
       "      <td>0188399313</td>\n",
       "      <td>[0, 0]</td>\n",
       "      <td>5.0</td>\n",
       "      <td>They work very well. Easy to clean, we wash them in the dishwasher every day. Our LO loves to hold on to the bottle and the plastic covering makes it easy for her to hold on to.</td>\n",
       "      <td>05 27, 2013</td>\n",
       "      <td>A28O3NP6WR5517</td>\n",
       "      <td>Jennifer gymer</td>\n",
       "      <td>These bottles are great!</td>\n",
       "    </tr>\n",
       "    <tr>\n",
       "      <th>1</th>\n",
       "      <td>0188399399</td>\n",
       "      <td>[1, 1]</td>\n",
       "      <td>5.0</td>\n",
       "      <td>it came early and was not disappointed. i love planet wise bags and now my wipe holder. it keps my osocozy wipes moist and does not leak. highly recommend it.</td>\n",
       "      <td>04 9, 2013</td>\n",
       "      <td>AX0M1Z6ZWO52J</td>\n",
       "      <td>Ash M.</td>\n",
       "      <td>perfect</td>\n",
       "    </tr>\n",
       "  </tbody>\n",
       "</table>\n",
       "</div>"
      ],
      "text/plain": [
       "         asin helpful  overall  \\\n",
       "0  0188399313  [0, 0]  5.0       \n",
       "1  0188399399  [1, 1]  5.0       \n",
       "\n",
       "                                                                                                                                                                          reviewText  \\\n",
       "0  They work very well. Easy to clean, we wash them in the dishwasher every day. Our LO loves to hold on to the bottle and the plastic covering makes it easy for her to hold on to.   \n",
       "1  it came early and was not disappointed. i love planet wise bags and now my wipe holder. it keps my osocozy wipes moist and does not leak. highly recommend it.                      \n",
       "\n",
       "    reviewTime      reviewerID    reviewerName                   summary  \n",
       "0  05 27, 2013  A28O3NP6WR5517  Jennifer gymer  These bottles are great!  \n",
       "1  04 9, 2013   AX0M1Z6ZWO52J   Ash M.          perfect                   "
      ]
     },
     "execution_count": 40,
     "metadata": {},
     "output_type": "execute_result"
    }
   ],
   "source": [
    "reviewDF = load_mongo_to_spark('baby')\n",
    "displayDF(reviewDF, 2)"
   ]
  },
  {
   "cell_type": "code",
   "execution_count": 60,
   "metadata": {
    "collapsed": true
   },
   "outputs": [],
   "source": [
    "@F.udf(returnType=T.BooleanType())\n",
    "def pick_clusters(clusterID):\n",
    "    targetList = ['6', '91', '716', '1607', '1037', '935', '1042', '1677', '1141', '1652', '1040', '1578']\n",
    "    return True if str(clusterID) in targetList else False"
   ]
  },
  {
   "cell_type": "code",
   "execution_count": 64,
   "metadata": {
    "scrolled": false
   },
   "outputs": [
    {
     "name": "stdout",
     "output_type": "stream",
     "text": [
      "Count: 6352\n"
     ]
    },
    {
     "data": {
      "text/html": [
       "<div>\n",
       "<style>\n",
       "    .dataframe thead tr:only-child th {\n",
       "        text-align: right;\n",
       "    }\n",
       "\n",
       "    .dataframe thead th {\n",
       "        text-align: left;\n",
       "    }\n",
       "\n",
       "    .dataframe tbody tr th {\n",
       "        vertical-align: top;\n",
       "    }\n",
       "</style>\n",
       "<table border=\"1\" class=\"dataframe\">\n",
       "  <thead>\n",
       "    <tr style=\"text-align: right;\">\n",
       "      <th></th>\n",
       "      <th>asin</th>\n",
       "      <th>clusterId</th>\n",
       "      <th>helpful</th>\n",
       "      <th>overall</th>\n",
       "      <th>reviewText</th>\n",
       "      <th>reviewTime</th>\n",
       "      <th>reviewerID</th>\n",
       "      <th>reviewerName</th>\n",
       "      <th>summary</th>\n",
       "    </tr>\n",
       "  </thead>\n",
       "  <tbody>\n",
       "    <tr>\n",
       "      <th>0</th>\n",
       "      <td>B000056JAK</td>\n",
       "      <td>1141</td>\n",
       "      <td>[0, 0]</td>\n",
       "      <td>4.0</td>\n",
       "      <td>I bought the two pack to replace several worn valves. The price was right so I just purchased the entire sipster cups rather than the valves alone.</td>\n",
       "      <td>07 21, 2014</td>\n",
       "      <td>A24B2CZOCLSXGU</td>\n",
       "      <td>None</td>\n",
       "      <td>value and spill-proof</td>\n",
       "    </tr>\n",
       "    <tr>\n",
       "      <th>1</th>\n",
       "      <td>B000056JAK</td>\n",
       "      <td>1141</td>\n",
       "      <td>[0, 0]</td>\n",
       "      <td>5.0</td>\n",
       "      <td>easy to take apart and clean so they don't get funky like some other brands that don't come apart, dishwasher safe, never leak, the stopper never falls out unlike with other brand sippy cups.  I am on baby #3 and am completely a playtex sipster fan.</td>\n",
       "      <td>09 3, 2013</td>\n",
       "      <td>AD78WIJ7S0GR8</td>\n",
       "      <td>adrianne</td>\n",
       "      <td>best sippy cups ever!</td>\n",
       "    </tr>\n",
       "    <tr>\n",
       "      <th>2</th>\n",
       "      <td>B000056JAK</td>\n",
       "      <td>1141</td>\n",
       "      <td>[0, 0]</td>\n",
       "      <td>5.0</td>\n",
       "      <td>Have been on a quest to find a sippy cup that does not leak and I think these might be the ones.  I have tried a lot and these are by far my favorite in the leaking dept.</td>\n",
       "      <td>12 29, 2010</td>\n",
       "      <td>A22D2QWCYN7BAD</td>\n",
       "      <td>A. Jessup \"aj\"</td>\n",
       "      <td>sippy cups</td>\n",
       "    </tr>\n",
       "  </tbody>\n",
       "</table>\n",
       "</div>"
      ],
      "text/plain": [
       "         asin  clusterId helpful  overall  \\\n",
       "0  B000056JAK  1141       [0, 0]  4.0       \n",
       "1  B000056JAK  1141       [0, 0]  5.0       \n",
       "2  B000056JAK  1141       [0, 0]  5.0       \n",
       "\n",
       "                                                                                                                                                                                                                                                  reviewText  \\\n",
       "0  I bought the two pack to replace several worn valves. The price was right so I just purchased the entire sipster cups rather than the valves alone.                                                                                                         \n",
       "1  easy to take apart and clean so they don't get funky like some other brands that don't come apart, dishwasher safe, never leak, the stopper never falls out unlike with other brand sippy cups.  I am on baby #3 and am completely a playtex sipster fan.   \n",
       "2  Have been on a quest to find a sippy cup that does not leak and I think these might be the ones.  I have tried a lot and these are by far my favorite in the leaking dept.                                                                                  \n",
       "\n",
       "    reviewTime      reviewerID    reviewerName                summary  \n",
       "0  07 21, 2014  A24B2CZOCLSXGU  None            value and spill-proof  \n",
       "1  09 3, 2013   AD78WIJ7S0GR8   adrianne        best sippy cups ever!  \n",
       "2  12 29, 2010  A22D2QWCYN7BAD  A. Jessup \"aj\"  sippy cups             "
      ]
     },
     "execution_count": 64,
     "metadata": {},
     "output_type": "execute_result"
    }
   ],
   "source": [
    "rawDF = clusteredProductMetaDF.join(reviewDF, on='asin').filter(pick_clusters('clusterID'))\n",
    "displayDF(rawDF, 3)"
   ]
  },
  {
   "cell_type": "markdown",
   "metadata": {},
   "source": [
    "## Load stopwords\n",
    "A list of stopwords is loaded as a Python list and broadcasted in PySpark."
   ]
  },
  {
   "cell_type": "code",
   "execution_count": 65,
   "metadata": {
    "collapsed": true
   },
   "outputs": [],
   "source": [
    "# TODO: Get brands from rawDF instead of a new file here.\n",
    "# TODO: Replace &amp and &#39\n",
    "# Find distinct brands in the dataset\n",
    "uniqueBrands = (load_mongo_to_spark('baby_meta')\n",
    "                .select('brand')\n",
    "                .distinct()\n",
    "                .rdd\n",
    "                .map(lambda x: x[0])\n",
    "                .collect())"
   ]
  },
  {
   "cell_type": "code",
   "execution_count": 66,
   "metadata": {
    "collapsed": true
   },
   "outputs": [],
   "source": [
    "#TODO: Add directly using sets instead of stopwords here."
   ]
  },
  {
   "cell_type": "code",
   "execution_count": 67,
   "metadata": {
    "scrolled": false
   },
   "outputs": [
    {
     "name": "stdout",
     "output_type": "stream",
     "text": [
      "Top 100 stopwords:\n",
      "\n",
      "['all', 'just', 'being', 'over', 'both', 'through', 'yourselves', 'its', 'before', 'with', 'had', 'should', 'to', 'only', 'under', 'ours', 'has', 'do', 'them', 'his', 'very', 'they', 'not', 'during', 'now', 'him', 'nor', 'did', 'these', 't', 'each', 'where', 'because', 'doing', 'theirs', 'some', 'are', 'our', 'ourselves', 'out', 'what', 'for', 'below', 'does', 'above', 'between', 'she', 'be', 'we', 'after', 'here', 'hers', 'by', 'on', 'about', 'of', 'against', 's', 'or', 'own', 'into', 'yourself', 'down', 'your', 'from', 'her', 'whom', 'there', 'been', 'few', 'too', 'themselves', 'was', 'until', 'more', 'himself', 'that', 'but', 'off', 'herself', 'than', 'those', 'he', 'me', 'myself', 'this', 'up', 'will', 'while', 'can', 'were', 'my', 'and', 'then', 'is', 'in', 'am', 'it', 'an', 'as']\n"
     ]
    }
   ],
   "source": [
    "# Load stopwords into list\n",
    "with open('stopwords.csv', 'r') as csvFile:\n",
    "    fileReader = csv.reader(csvFile)\n",
    "    stopwords = []\n",
    "    for word in fileReader:\n",
    "        stopwords.extend(word)\n",
    "        \n",
    "# Add '' to stopwords\n",
    "stopwords.append('')\n",
    "\n",
    "# Add brands into stopwords\n",
    "stopwords.extend(uniqueBrands)\n",
    "\n",
    "# Broadcast stopwords\n",
    "stopwords_broadcast = spark.sparkContext.broadcast(stopwords)\n",
    "        \n",
    "print 'Top 100 stopwords:\\n\\n{}'.format(stopwords[:100])"
   ]
  },
  {
   "cell_type": "markdown",
   "metadata": {},
   "source": [
    "## Preprocess `rawDF`"
   ]
  },
  {
   "cell_type": "code",
   "execution_count": 68,
   "metadata": {
    "code_folding": [
     0
    ],
    "collapsed": true
   },
   "outputs": [],
   "source": [
    "def filter_helpful_reviews(sparkDF, pct_helpful, min_votes):\n",
    "    '''\n",
    "    Return a dataframe filtered by comments that are at least `pct_helpful`% helpful \n",
    "    and contain a minimum number of votes.\n",
    "    '''\n",
    "    def _filter_helpful_reviews(votes, pct_helpful, min_votes):\n",
    "        '''\n",
    "        Return bool if comment are at least `pct_helpful`% helpful and have at least `min_votes` vote.\n",
    "        \n",
    "        Inputs:\n",
    "            votes: A list of votes by [helpful, total_votes]\n",
    "            pct_helpful: A float\n",
    "            min_votes: A float\n",
    "        '''\n",
    "        return (votes[1] >= min_votes and (float(votes[0]) / votes[1] >= pct_helpful))\n",
    "    \n",
    "    udf = F.udf(lambda votes: _filter_helpful_reviews(votes, pct_helpful, min_votes), T.BooleanType())\n",
    "    \n",
    "    return sparkDF.filter(udf(F.col('helpful')))\n",
    "\n",
    "def preprocess_DF(rawDF):\n",
    "    '''\n",
    "    Preprocess text of dataframe by:\n",
    "        - selecting relevant columns ('clusterID', 'overall', 'review')\n",
    "        - concatenating 'summary' and 'reviewText' columns\n",
    "        - removing punctuations\n",
    "        - filtering out stopwords\n",
    "    '''\n",
    "    \n",
    "    def _filter_stopwords(text):\n",
    "        '''\n",
    "        Input:\n",
    "            text: A string concatenation of the columns 'summary' and 'reviewText'.\n",
    "        Returns:\n",
    "            A list of strings with stopwords filtered out.\n",
    "        '''\n",
    "        string_list = re.split(r'\\W+', text.lower())\n",
    "        \n",
    "        return [word for word in string_list if word not in stopwords_broadcast.value]\n",
    "    \n",
    "    udf = F.udf(lambda text: _filter_stopwords(text), T.ArrayType(T.StringType()))\n",
    "    \n",
    "    return (rawDF\n",
    "            .select(F.concat_ws('-', \n",
    "                                F.col('asin'), \n",
    "                                F.col('reviewerID')).alias('reviewID'),\n",
    "                    F.col('clusterID'),\n",
    "                    F.col('overall'), \n",
    "                    udf(F.concat_ws(' ', \n",
    "                                    F.col('summary'), \n",
    "                                    F.col('reviewText'))).alias('reviews'))\n",
    "           .cache())"
   ]
  },
  {
   "cell_type": "code",
   "execution_count": 69,
   "metadata": {},
   "outputs": [
    {
     "name": "stdout",
     "output_type": "stream",
     "text": [
      "Count: 1132\n"
     ]
    },
    {
     "data": {
      "text/html": [
       "<div>\n",
       "<style>\n",
       "    .dataframe thead tr:only-child th {\n",
       "        text-align: right;\n",
       "    }\n",
       "\n",
       "    .dataframe thead th {\n",
       "        text-align: left;\n",
       "    }\n",
       "\n",
       "    .dataframe tbody tr th {\n",
       "        vertical-align: top;\n",
       "    }\n",
       "</style>\n",
       "<table border=\"1\" class=\"dataframe\">\n",
       "  <thead>\n",
       "    <tr style=\"text-align: right;\">\n",
       "      <th></th>\n",
       "      <th>reviewID</th>\n",
       "      <th>clusterID</th>\n",
       "      <th>overall</th>\n",
       "      <th>reviews</th>\n",
       "    </tr>\n",
       "  </thead>\n",
       "  <tbody>\n",
       "    <tr>\n",
       "      <th>0</th>\n",
       "      <td>B000056JAK-AQYYUN3T7B0WM</td>\n",
       "      <td>1141</td>\n",
       "      <td>4.0</td>\n",
       "      <td>[leaks, drink, last, year, pregnant, asked, moms, cups, bottles, use, told, playtex, told, avent, bottles, sippy, cups, way, go, well, decided, go, avent, writing, review, playtex, sippy, cup, avent, sippy, cups, hard, hold, difficult, drink, cup, filled, capacity, pain, clean, worst, leak, spout, leaks, nothing, magic, cups, collars, leak, finally, decided, 5, months, using, avent, magic, cups, little, success, give, quot, hard, use, quot, one, mom, classified, playtex, cup, try, difference, astounding, daughter, could, easily, drink, cup, first, try, cup, easy, clean, 3, pieces, opposed, 5, 6, w, handles, pieces, avent, cup, assemble, use, m, sorry, didn, least, register, pack, ...]</td>\n",
       "    </tr>\n",
       "    <tr>\n",
       "      <th>1</th>\n",
       "      <td>B000056JAK-A2ETOH1CN5XTH6</td>\n",
       "      <td>1141</td>\n",
       "      <td>5.0</td>\n",
       "      <td>[great, leak, relatively, easy, clean, nothing, chew, trough, amazing, replacement, part, soft, spout, may, cost, much, new, sippy, yes, bottle, finally, gone]</td>\n",
       "    </tr>\n",
       "    <tr>\n",
       "      <th>2</th>\n",
       "      <td>B000056JAK-A1Q4TQ06340F3U</td>\n",
       "      <td>1141</td>\n",
       "      <td>5.0</td>\n",
       "      <td>[best, sippy, cup, hands, would, consider, sippy, cup, pro, tried, sooo, many, different, brands, kinds, best, durable, leak, easy, clean, waste, time, money, sippy]</td>\n",
       "    </tr>\n",
       "    <tr>\n",
       "      <th>3</th>\n",
       "      <td>B000056JAK-A3JBVGKIVMS9X0</td>\n",
       "      <td>1141</td>\n",
       "      <td>5.0</td>\n",
       "      <td>[nice, spill, proof, cups, kids, love, cups, frankly, easy, use, valve, allows, kids, easily, drink, easy, clean, perfect, travel, may, beginning, cup, user, daughter, preferred, soft, spout, started, using, cup, hard, plastic]</td>\n",
       "    </tr>\n",
       "    <tr>\n",
       "      <th>4</th>\n",
       "      <td>B000056JAK-A2JZPEW49WB9KN</td>\n",
       "      <td>1141</td>\n",
       "      <td>5.0</td>\n",
       "      <td>[leaks, choice, colors, wife, purchased, another, store, twice, price, decided, bring, cost, average, found, leak, small, rubber, piece, fits, spout, control, speed, liquid, comes, child, gets, old, enough, eliminate, rubber, piece, think, great, use, soon, stop, using, bottles, stop, using, rubber, flow, control, piece, use, child, grows, sippy, cups, lose, great, choice, highly, recommended]</td>\n",
       "    </tr>\n",
       "  </tbody>\n",
       "</table>\n",
       "</div>"
      ],
      "text/plain": [
       "                    reviewID  clusterID  overall  \\\n",
       "0  B000056JAK-AQYYUN3T7B0WM   1141       4.0       \n",
       "1  B000056JAK-A2ETOH1CN5XTH6  1141       5.0       \n",
       "2  B000056JAK-A1Q4TQ06340F3U  1141       5.0       \n",
       "3  B000056JAK-A3JBVGKIVMS9X0  1141       5.0       \n",
       "4  B000056JAK-A2JZPEW49WB9KN  1141       5.0       \n",
       "\n",
       "                                                                                                                                                                                                                                                                                                                                                                                                                                                                                                                                                                                                                                                                                                                 reviews  \n",
       "0  [leaks, drink, last, year, pregnant, asked, moms, cups, bottles, use, told, playtex, told, avent, bottles, sippy, cups, way, go, well, decided, go, avent, writing, review, playtex, sippy, cup, avent, sippy, cups, hard, hold, difficult, drink, cup, filled, capacity, pain, clean, worst, leak, spout, leaks, nothing, magic, cups, collars, leak, finally, decided, 5, months, using, avent, magic, cups, little, success, give, quot, hard, use, quot, one, mom, classified, playtex, cup, try, difference, astounding, daughter, could, easily, drink, cup, first, try, cup, easy, clean, 3, pieces, opposed, 5, 6, w, handles, pieces, avent, cup, assemble, use, m, sorry, didn, least, register, pack, ...]  \n",
       "1  [great, leak, relatively, easy, clean, nothing, chew, trough, amazing, replacement, part, soft, spout, may, cost, much, new, sippy, yes, bottle, finally, gone]                                                                                                                                                                                                                                                                                                                                                                                                                                                                                                                                                        \n",
       "2  [best, sippy, cup, hands, would, consider, sippy, cup, pro, tried, sooo, many, different, brands, kinds, best, durable, leak, easy, clean, waste, time, money, sippy]                                                                                                                                                                                                                                                                                                                                                                                                                                                                                                                                                  \n",
       "3  [nice, spill, proof, cups, kids, love, cups, frankly, easy, use, valve, allows, kids, easily, drink, easy, clean, perfect, travel, may, beginning, cup, user, daughter, preferred, soft, spout, started, using, cup, hard, plastic]                                                                                                                                                                                                                                                                                                                                                                                                                                                                                    \n",
       "4  [leaks, choice, colors, wife, purchased, another, store, twice, price, decided, bring, cost, average, found, leak, small, rubber, piece, fits, spout, control, speed, liquid, comes, child, gets, old, enough, eliminate, rubber, piece, think, great, use, soon, stop, using, bottles, stop, using, rubber, flow, control, piece, use, child, grows, sippy, cups, lose, great, choice, highly, recommended]                                                                                                                                                                                                                                                                                                           "
      ]
     },
     "execution_count": 69,
     "metadata": {},
     "output_type": "execute_result"
    }
   ],
   "source": [
    "preprocessedDF = preprocess_DF(filter_helpful_reviews(rawDF, pct_helpful=.5, min_votes=3))\n",
    "displayDF(preprocessedDF, 5)"
   ]
  },
  {
   "cell_type": "markdown",
   "metadata": {},
   "source": [
    "### Check for illegal `clusterID`s"
   ]
  },
  {
   "cell_type": "code",
   "execution_count": 70,
   "metadata": {
    "scrolled": false
   },
   "outputs": [
    {
     "name": "stdout",
     "output_type": "stream",
     "text": [
      "Count: 0\n"
     ]
    },
    {
     "data": {
      "text/html": [
       "<div>\n",
       "<style>\n",
       "    .dataframe thead tr:only-child th {\n",
       "        text-align: right;\n",
       "    }\n",
       "\n",
       "    .dataframe thead th {\n",
       "        text-align: left;\n",
       "    }\n",
       "\n",
       "    .dataframe tbody tr th {\n",
       "        vertical-align: top;\n",
       "    }\n",
       "</style>\n",
       "<table border=\"1\" class=\"dataframe\">\n",
       "  <thead>\n",
       "    <tr style=\"text-align: right;\">\n",
       "      <th></th>\n",
       "      <th>reviewID</th>\n",
       "      <th>clusterID</th>\n",
       "      <th>overall</th>\n",
       "      <th>reviews</th>\n",
       "    </tr>\n",
       "  </thead>\n",
       "  <tbody>\n",
       "  </tbody>\n",
       "</table>\n",
       "</div>"
      ],
      "text/plain": [
       "Empty DataFrame\n",
       "Columns: [reviewID, clusterID, overall, reviews]\n",
       "Index: []"
      ]
     },
     "execution_count": 70,
     "metadata": {},
     "output_type": "execute_result"
    }
   ],
   "source": [
    "@F.udf(returnType=T.BooleanType())\n",
    "def check_int_instance(clusterID):\n",
    "    return True if isinstance(clusterID, int) else False\n",
    "\n",
    "displayDF(preprocessedDF\n",
    "          .filter(check_int_instance(F.col('clusterID')) == False))"
   ]
  },
  {
   "cell_type": "markdown",
   "metadata": {},
   "source": [
    "## Label ratings for `preprocessedDF`"
   ]
  },
  {
   "cell_type": "code",
   "execution_count": 71,
   "metadata": {
    "code_folding": [
     1
    ],
    "collapsed": true
   },
   "outputs": [],
   "source": [
    "@F.udf(returnType=T.BooleanType())\n",
    "def label_review_quality(rating, min_good_review_rating=4):\n",
    "    '''\n",
    "    UDF to append a column label of 'isPositiveReview' to the DataFrame.\n",
    "    \n",
    "    Inputs:\n",
    "        rating: Rating from 1.0 to 5.0 (int expressed as float)\n",
    "    Outputs:\n",
    "        True if review has a rating of at least `min_good_review_rating`, otherwise False.\n",
    "    '''\n",
    "    return True if rating >= min_good_review_rating else False"
   ]
  },
  {
   "cell_type": "code",
   "execution_count": 72,
   "metadata": {},
   "outputs": [
    {
     "name": "stdout",
     "output_type": "stream",
     "text": [
      "Count: 1132\n"
     ]
    },
    {
     "data": {
      "text/html": [
       "<div>\n",
       "<style>\n",
       "    .dataframe thead tr:only-child th {\n",
       "        text-align: right;\n",
       "    }\n",
       "\n",
       "    .dataframe thead th {\n",
       "        text-align: left;\n",
       "    }\n",
       "\n",
       "    .dataframe tbody tr th {\n",
       "        vertical-align: top;\n",
       "    }\n",
       "</style>\n",
       "<table border=\"1\" class=\"dataframe\">\n",
       "  <thead>\n",
       "    <tr style=\"text-align: right;\">\n",
       "      <th></th>\n",
       "      <th>reviewID</th>\n",
       "      <th>clusterID</th>\n",
       "      <th>overall</th>\n",
       "      <th>reviews</th>\n",
       "      <th>positiveReview</th>\n",
       "    </tr>\n",
       "  </thead>\n",
       "  <tbody>\n",
       "    <tr>\n",
       "      <th>0</th>\n",
       "      <td>B000056JAK-AQYYUN3T7B0WM</td>\n",
       "      <td>1141</td>\n",
       "      <td>4.0</td>\n",
       "      <td>[leaks, drink, last, year, pregnant, asked, moms, cups, bottles, use, told, playtex, told, avent, bottles, sippy, cups, way, go, well, decided, go, avent, writing, review, playtex, sippy, cup, avent, sippy, cups, hard, hold, difficult, drink, cup, filled, capacity, pain, clean, worst, leak, spout, leaks, nothing, magic, cups, collars, leak, finally, decided, 5, months, using, avent, magic, cups, little, success, give, quot, hard, use, quot, one, mom, classified, playtex, cup, try, difference, astounding, daughter, could, easily, drink, cup, first, try, cup, easy, clean, 3, pieces, opposed, 5, 6, w, handles, pieces, avent, cup, assemble, use, m, sorry, didn, least, register, pack, ...]</td>\n",
       "      <td>True</td>\n",
       "    </tr>\n",
       "    <tr>\n",
       "      <th>1</th>\n",
       "      <td>B000056JAK-A2ETOH1CN5XTH6</td>\n",
       "      <td>1141</td>\n",
       "      <td>5.0</td>\n",
       "      <td>[great, leak, relatively, easy, clean, nothing, chew, trough, amazing, replacement, part, soft, spout, may, cost, much, new, sippy, yes, bottle, finally, gone]</td>\n",
       "      <td>True</td>\n",
       "    </tr>\n",
       "    <tr>\n",
       "      <th>2</th>\n",
       "      <td>B000056JAK-A1Q4TQ06340F3U</td>\n",
       "      <td>1141</td>\n",
       "      <td>5.0</td>\n",
       "      <td>[best, sippy, cup, hands, would, consider, sippy, cup, pro, tried, sooo, many, different, brands, kinds, best, durable, leak, easy, clean, waste, time, money, sippy]</td>\n",
       "      <td>True</td>\n",
       "    </tr>\n",
       "    <tr>\n",
       "      <th>3</th>\n",
       "      <td>B000056JAK-A3JBVGKIVMS9X0</td>\n",
       "      <td>1141</td>\n",
       "      <td>5.0</td>\n",
       "      <td>[nice, spill, proof, cups, kids, love, cups, frankly, easy, use, valve, allows, kids, easily, drink, easy, clean, perfect, travel, may, beginning, cup, user, daughter, preferred, soft, spout, started, using, cup, hard, plastic]</td>\n",
       "      <td>True</td>\n",
       "    </tr>\n",
       "    <tr>\n",
       "      <th>4</th>\n",
       "      <td>B000056JAK-A2JZPEW49WB9KN</td>\n",
       "      <td>1141</td>\n",
       "      <td>5.0</td>\n",
       "      <td>[leaks, choice, colors, wife, purchased, another, store, twice, price, decided, bring, cost, average, found, leak, small, rubber, piece, fits, spout, control, speed, liquid, comes, child, gets, old, enough, eliminate, rubber, piece, think, great, use, soon, stop, using, bottles, stop, using, rubber, flow, control, piece, use, child, grows, sippy, cups, lose, great, choice, highly, recommended]</td>\n",
       "      <td>True</td>\n",
       "    </tr>\n",
       "  </tbody>\n",
       "</table>\n",
       "</div>"
      ],
      "text/plain": [
       "                    reviewID  clusterID  overall  \\\n",
       "0  B000056JAK-AQYYUN3T7B0WM   1141       4.0       \n",
       "1  B000056JAK-A2ETOH1CN5XTH6  1141       5.0       \n",
       "2  B000056JAK-A1Q4TQ06340F3U  1141       5.0       \n",
       "3  B000056JAK-A3JBVGKIVMS9X0  1141       5.0       \n",
       "4  B000056JAK-A2JZPEW49WB9KN  1141       5.0       \n",
       "\n",
       "                                                                                                                                                                                                                                                                                                                                                                                                                                                                                                                                                                                                                                                                                                                 reviews  \\\n",
       "0  [leaks, drink, last, year, pregnant, asked, moms, cups, bottles, use, told, playtex, told, avent, bottles, sippy, cups, way, go, well, decided, go, avent, writing, review, playtex, sippy, cup, avent, sippy, cups, hard, hold, difficult, drink, cup, filled, capacity, pain, clean, worst, leak, spout, leaks, nothing, magic, cups, collars, leak, finally, decided, 5, months, using, avent, magic, cups, little, success, give, quot, hard, use, quot, one, mom, classified, playtex, cup, try, difference, astounding, daughter, could, easily, drink, cup, first, try, cup, easy, clean, 3, pieces, opposed, 5, 6, w, handles, pieces, avent, cup, assemble, use, m, sorry, didn, least, register, pack, ...]   \n",
       "1  [great, leak, relatively, easy, clean, nothing, chew, trough, amazing, replacement, part, soft, spout, may, cost, much, new, sippy, yes, bottle, finally, gone]                                                                                                                                                                                                                                                                                                                                                                                                                                                                                                                                                         \n",
       "2  [best, sippy, cup, hands, would, consider, sippy, cup, pro, tried, sooo, many, different, brands, kinds, best, durable, leak, easy, clean, waste, time, money, sippy]                                                                                                                                                                                                                                                                                                                                                                                                                                                                                                                                                   \n",
       "3  [nice, spill, proof, cups, kids, love, cups, frankly, easy, use, valve, allows, kids, easily, drink, easy, clean, perfect, travel, may, beginning, cup, user, daughter, preferred, soft, spout, started, using, cup, hard, plastic]                                                                                                                                                                                                                                                                                                                                                                                                                                                                                     \n",
       "4  [leaks, choice, colors, wife, purchased, another, store, twice, price, decided, bring, cost, average, found, leak, small, rubber, piece, fits, spout, control, speed, liquid, comes, child, gets, old, enough, eliminate, rubber, piece, think, great, use, soon, stop, using, bottles, stop, using, rubber, flow, control, piece, use, child, grows, sippy, cups, lose, great, choice, highly, recommended]                                                                                                                                                                                                                                                                                                            \n",
       "\n",
       "   positiveReview  \n",
       "0  True            \n",
       "1  True            \n",
       "2  True            \n",
       "3  True            \n",
       "4  True            "
      ]
     },
     "execution_count": 72,
     "metadata": {},
     "output_type": "execute_result"
    }
   ],
   "source": [
    "polarizedDF = (preprocessedDF\n",
    "               .withColumn('positiveReview', label_review_quality('overall')))\n",
    "displayDF(polarizedDF, 5)"
   ]
  },
  {
   "cell_type": "markdown",
   "metadata": {},
   "source": [
    "## Aggregate ratings by `clusterID` and `positiveReview`"
   ]
  },
  {
   "cell_type": "code",
   "execution_count": 73,
   "metadata": {
    "code_folding": [
     1,
     12
    ],
    "collapsed": true
   },
   "outputs": [],
   "source": [
    "@F.udf(returnType=T.ArrayType(T.StringType()))\n",
    "def flatten(nested_list):\n",
    "    '''\n",
    "    Flatten a list of list to a one dimensional list.\n",
    "    '''\n",
    "    final_list = []\n",
    "    for list_ in nested_list:\n",
    "        final_list.extend(list_)\n",
    "        \n",
    "    return final_list\n",
    "\n",
    "@F.udf(returnType=T.BooleanType())\n",
    "def bool_invert(boolean):\n",
    "    '''\n",
    "    Invert the value of a boolean\n",
    "    '''\n",
    "    return not boolean"
   ]
  },
  {
   "cell_type": "code",
   "execution_count": 74,
   "metadata": {
    "scrolled": false
   },
   "outputs": [
    {
     "name": "stdout",
     "output_type": "stream",
     "text": [
      "Count: 24\n"
     ]
    },
    {
     "data": {
      "text/html": [
       "<div>\n",
       "<style>\n",
       "    .dataframe thead tr:only-child th {\n",
       "        text-align: right;\n",
       "    }\n",
       "\n",
       "    .dataframe thead th {\n",
       "        text-align: left;\n",
       "    }\n",
       "\n",
       "    .dataframe tbody tr th {\n",
       "        vertical-align: top;\n",
       "    }\n",
       "</style>\n",
       "<table border=\"1\" class=\"dataframe\">\n",
       "  <thead>\n",
       "    <tr style=\"text-align: right;\">\n",
       "      <th></th>\n",
       "      <th>clusterID</th>\n",
       "      <th>positiveReview</th>\n",
       "      <th>tokens</th>\n",
       "    </tr>\n",
       "  </thead>\n",
       "  <tbody>\n",
       "    <tr>\n",
       "      <th>0</th>\n",
       "      <td>6</td>\n",
       "      <td>True</td>\n",
       "      <td>[great, product, fabulous, customer, service, charging, issues, appear, fixed, purchased, tykelight, february, 2009, huge, hit, 16, month, old, used, every, night, sometimes, day, weeks, ago, charger, failed, work, finally, got, around, calling, mobi, last, week, extremely, friendly, apologetic, helpful, today, received, brand, new, tykelight, mail, request, send, back, defective, one, charging, mechanism, new, tykelight, reversed, used, bottom, person, base, vice, versa, makes, lot, sense, pieces, used, base, person, quite, fragile, old, base, movable, parts, also, parts, used, time, bit, substantive, wish, could, attach, pics, reviews, trust, guess, fewer, people, charging, issues, mentioned, reviews, give, company, newly, redesigned, tykelight, two, huge, ...]</td>\n",
       "    </tr>\n",
       "    <tr>\n",
       "      <th>1</th>\n",
       "      <td>6</td>\n",
       "      <td>False</td>\n",
       "      <td>[good, concept, poor, design, thought, great, idea, since, never, seem, enough, light, clipping, sleeping, baby, nails, unfortunately, way, clipper, fastened, housing, light, unable, see, exactly, positioning, clipper, baby, nails, several, tries, either, missed, nail, altogether, clipped, skin, great, idea, way, bright, light, way, bright, bedtime, use, harsh, led, like, brightness, kids, really, wanted, like, complained, way, bright, ultimately, returned, htem, shame, owned, original, mobi, tykelight, glomate, loved, product, discontinued, think, far, superior, total, pos, bought, son, long, enough, get, attached, stopped, working, thing, literally, functioned, maybe, month, recommendation, find, something, else, please, buy, please, buy, item, purchased, 2, regret, purchases, ...]</td>\n",
       "    </tr>\n",
       "    <tr>\n",
       "      <th>2</th>\n",
       "      <td>91</td>\n",
       "      <td>True</td>\n",
       "      <td>[great, even, apartment, second, monitor, tried, live, downstairs, apartment, picked, first, monitor, upstairs, neighbor, monitor, child, ve, found, much, better, results, monitor, range, adequate, entire, apartment, even, watching, tv, listening, radio, volume, loud, enough, hear, shower, sensitive, enough, pick, slight, wimper, re, pleased, aunt, loves, em, 1, bought, brand, new, baby, cousin, arrival, aunt, says, work, wonderful, double, receivers, convenient, pleased, baby, monitors, one, best, one, found, reasonable, price, range, amazing, go, side, yard, work, doesn, fuzz, really, best, money, two, kids, often, grabbed, antenna, swinging, around, usually, ruins, monitors, still, survived, problems, think, purchase, another, set, two, sets, hand, ...]</td>\n",
       "    </tr>\n",
       "    <tr>\n",
       "      <th>3</th>\n",
       "      <td>91</td>\n",
       "      <td>False</td>\n",
       "      <td>[static, loud, monitor, static, interference, loud, drives, crazy, hear, actual, sounds, bought, static, useless, monitor, worth, raving, bought, monitor, second, child, definately, pros, cons, pros, 1, cost, good, price, monitor, 2, receivers, 2, sensitivity, sensitive, picking, sound, hear, baby, movements, bassinet, stirring, begins, cry, cons, 1, static, monitor, prone, static, comes, throughout, day, even, sound, sensitive, lights, receivers, acknowledge, static, coming, base, 2, reliable, portable, mean, receivers, operating, battery, power, alone, 50, 50, chance, actually, work, even, new, batteries, constantly, problems, getting, either, receiver, turn, owned, one, monitor, one, didn, problems, first, first, safety, 1st, monitor, price, 16, 99, could, ...]</td>\n",
       "    </tr>\n",
       "    <tr>\n",
       "      <th>4</th>\n",
       "      <td>716</td>\n",
       "      <td>True</td>\n",
       "      <td>[great, keepsake, husband, bought, loved, idea, putting, baby, picture, next, foot, hand, print, thought, would, really, neat, look, back, picture, 6, weeks, see, small, tiny, little, feet, hands, easy, material, really, easy, work, easy, get, baby, foot, hand, isn, goopy, bring, material, baby, instead, trying, balancing, act, getting, baby, positioned, material, trying, hold, still, put, stuff, package, grabbed, appendage, wanted, imprint, put, material, foot, hand, pressed, gently, frame, easy, put, together, caste, dry, set, background, pink, one, side, blue, really, doesn, get, easier, really, attractive, put, together, problem, caste, cracked, drying, much, enough, noticeable, husband, didn, lay, exactly, flat, dry, ...]</td>\n",
       "    </tr>\n",
       "    <tr>\n",
       "      <th>5</th>\n",
       "      <td>716</td>\n",
       "      <td>False</td>\n",
       "      <td>[bought, thing, year, ago, item, good, bought, item, year, ago, son, first, born, thought, would, neat, one, first, birthday, place, side, side, like, one, much, one, received, last, year, one, bigger, ordered, one, black, frame, supposed, come, black, background, instead, came, baby, blue, one, side, pink, disappointed, need, rig, black, poster, board, something, else, actually, match, one, even, though, picture, website, shows, black, frame, black, background, frustrated, opened, way, return, without, cost, like, item, like, tweek, make, supposed, first, place, buy, zacardi, writing, warn, bought, frame, zicardi, came, damaged, several, discussions, customer, service, instead, return, like, said, sent, another, frame, ...]</td>\n",
       "    </tr>\n",
       "  </tbody>\n",
       "</table>\n",
       "</div>"
      ],
      "text/plain": [
       "   clusterID  positiveReview  \\\n",
       "0  6          True             \n",
       "1  6          False            \n",
       "2  91         True             \n",
       "3  91         False            \n",
       "4  716        True             \n",
       "5  716        False            \n",
       "\n",
       "                                                                                                                                                                                                                                                                                                                                                                                                                                                                                                                                                                                                                                                                                                                                                                                                                       tokens  \n",
       "0  [great, product, fabulous, customer, service, charging, issues, appear, fixed, purchased, tykelight, february, 2009, huge, hit, 16, month, old, used, every, night, sometimes, day, weeks, ago, charger, failed, work, finally, got, around, calling, mobi, last, week, extremely, friendly, apologetic, helpful, today, received, brand, new, tykelight, mail, request, send, back, defective, one, charging, mechanism, new, tykelight, reversed, used, bottom, person, base, vice, versa, makes, lot, sense, pieces, used, base, person, quite, fragile, old, base, movable, parts, also, parts, used, time, bit, substantive, wish, could, attach, pics, reviews, trust, guess, fewer, people, charging, issues, mentioned, reviews, give, company, newly, redesigned, tykelight, two, huge, ...]                       \n",
       "1  [good, concept, poor, design, thought, great, idea, since, never, seem, enough, light, clipping, sleeping, baby, nails, unfortunately, way, clipper, fastened, housing, light, unable, see, exactly, positioning, clipper, baby, nails, several, tries, either, missed, nail, altogether, clipped, skin, great, idea, way, bright, light, way, bright, bedtime, use, harsh, led, like, brightness, kids, really, wanted, like, complained, way, bright, ultimately, returned, htem, shame, owned, original, mobi, tykelight, glomate, loved, product, discontinued, think, far, superior, total, pos, bought, son, long, enough, get, attached, stopped, working, thing, literally, functioned, maybe, month, recommendation, find, something, else, please, buy, please, buy, item, purchased, 2, regret, purchases, ...]  \n",
       "2  [great, even, apartment, second, monitor, tried, live, downstairs, apartment, picked, first, monitor, upstairs, neighbor, monitor, child, ve, found, much, better, results, monitor, range, adequate, entire, apartment, even, watching, tv, listening, radio, volume, loud, enough, hear, shower, sensitive, enough, pick, slight, wimper, re, pleased, aunt, loves, em, 1, bought, brand, new, baby, cousin, arrival, aunt, says, work, wonderful, double, receivers, convenient, pleased, baby, monitors, one, best, one, found, reasonable, price, range, amazing, go, side, yard, work, doesn, fuzz, really, best, money, two, kids, often, grabbed, antenna, swinging, around, usually, ruins, monitors, still, survived, problems, think, purchase, another, set, two, sets, hand, ...]                              \n",
       "3  [static, loud, monitor, static, interference, loud, drives, crazy, hear, actual, sounds, bought, static, useless, monitor, worth, raving, bought, monitor, second, child, definately, pros, cons, pros, 1, cost, good, price, monitor, 2, receivers, 2, sensitivity, sensitive, picking, sound, hear, baby, movements, bassinet, stirring, begins, cry, cons, 1, static, monitor, prone, static, comes, throughout, day, even, sound, sensitive, lights, receivers, acknowledge, static, coming, base, 2, reliable, portable, mean, receivers, operating, battery, power, alone, 50, 50, chance, actually, work, even, new, batteries, constantly, problems, getting, either, receiver, turn, owned, one, monitor, one, didn, problems, first, first, safety, 1st, monitor, price, 16, 99, could, ...]                      \n",
       "4  [great, keepsake, husband, bought, loved, idea, putting, baby, picture, next, foot, hand, print, thought, would, really, neat, look, back, picture, 6, weeks, see, small, tiny, little, feet, hands, easy, material, really, easy, work, easy, get, baby, foot, hand, isn, goopy, bring, material, baby, instead, trying, balancing, act, getting, baby, positioned, material, trying, hold, still, put, stuff, package, grabbed, appendage, wanted, imprint, put, material, foot, hand, pressed, gently, frame, easy, put, together, caste, dry, set, background, pink, one, side, blue, really, doesn, get, easier, really, attractive, put, together, problem, caste, cracked, drying, much, enough, noticeable, husband, didn, lay, exactly, flat, dry, ...]                                                            \n",
       "5  [bought, thing, year, ago, item, good, bought, item, year, ago, son, first, born, thought, would, neat, one, first, birthday, place, side, side, like, one, much, one, received, last, year, one, bigger, ordered, one, black, frame, supposed, come, black, background, instead, came, baby, blue, one, side, pink, disappointed, need, rig, black, poster, board, something, else, actually, match, one, even, though, picture, website, shows, black, frame, black, background, frustrated, opened, way, return, without, cost, like, item, like, tweek, make, supposed, first, place, buy, zacardi, writing, warn, bought, frame, zicardi, came, damaged, several, discussions, customer, service, instead, return, like, said, sent, another, frame, ...]                                                              "
      ]
     },
     "execution_count": 74,
     "metadata": {},
     "output_type": "execute_result"
    }
   ],
   "source": [
    "aggregatedDF = (polarizedDF\n",
    "                .groupBy('clusterID', 'positiveReview')\n",
    "                .agg(F.collect_list('reviews').alias('collectedReviews'))\n",
    "                .withColumn('tokens', flatten('collectedReviews'))\n",
    "                .drop('collectedReviews')\n",
    "                .sort('clusterID', bool_invert('positiveReview'))\n",
    "                .cache())\n",
    "displayDF(aggregatedDF, 6)"
   ]
  },
  {
   "cell_type": "markdown",
   "metadata": {},
   "source": [
    "## Select top $N$ words ranked by TF-IDF for positive and negative reviews"
   ]
  },
  {
   "cell_type": "code",
   "execution_count": 75,
   "metadata": {
    "collapsed": true
   },
   "outputs": [],
   "source": [
    "# UDFs to bin group word categories in new DF columns\n",
    "@F.udf(returnType=T.ArrayType(T.StringType()))\n",
    "def bin_pos_top_words(words, positiveReview):\n",
    "    return words if positiveReview == True else None\n",
    "\n",
    "@F.udf(returnType=T.ArrayType(T.StringType()))\n",
    "def bin_neg_top_words(words, positiveReview):\n",
    "    return words if positiveReview == False else None"
   ]
  },
  {
   "cell_type": "code",
   "execution_count": 139,
   "metadata": {
    "code_folding": [
     10,
     23
    ]
   },
   "outputs": [],
   "source": [
    "def top_N_words(DF, N=10):\n",
    "    '''\n",
    "    Obtains the top N words of positive and negative reviews respectively, ranked by tf-idf of entries in a DF.\n",
    "    Inputs:\n",
    "        DF: A Spark DataFrame containing columns 'clusterID', 'positiveReview' and 'tokens'.\n",
    "        N:  Number of top-ranking words to keep\n",
    "    Outputs:\n",
    "        A DataFrame of schema (_clusterID_, _positiveReview_, top_N_pos, top_N_neg)\n",
    "    '''\n",
    "    \n",
    "    def tf(tokens):\n",
    "        '''\n",
    "        Calculate the token frequency (TF) for each review.\n",
    "\n",
    "        Inputs:\n",
    "            tokens: A list of token strings.\n",
    "        Outputs:\n",
    "            A dictionary of (token, tf).\n",
    "        '''\n",
    "        N = len(tokens)\n",
    "\n",
    "        return {token: float(tokens.count(token)) / N for token in tokens}\n",
    "\n",
    "    def idf(corpusDF):\n",
    "        '''\n",
    "        Calculate the inverse document frequency for the corpusDF.\n",
    "\n",
    "        Inputs:\n",
    "            corpusDF: A Spark DataFrame containing columns 'tokens'.\n",
    "        Outputs:\n",
    "            A dictionary of (token, idf).\n",
    "        '''\n",
    "        # Calculate the number of reviews\n",
    "        N = corpusDF.count()\n",
    "\n",
    "        # Create an RDD with entries (uniq_tokens_in_each_review, 1)\n",
    "        checkpointRDD = (corpusDF\n",
    "                         .select('tokens')\n",
    "                         .rdd\n",
    "                         .flatMap(lambda tokens: list(set(tokens[0])))\n",
    "                         .map(lambda token: (token, 1)))\n",
    "\n",
    "        # Produce a dict containing (token, idf)\n",
    "        return (checkpointRDD\n",
    "                .reduceByKey(lambda a, b: a + b)\n",
    "                .mapValues(lambda count: float(count) / N)\n",
    "                .collectAsMap())\n",
    "    \n",
    "    # Calculate tf's as an RDD\n",
    "    tfRDD = (DF\n",
    "           .select('clusterID', 'positiveReview', 'tokens')\n",
    "           .rdd\n",
    "           .map(lambda (clusterID, positiveReview, tokens): ((clusterID, positiveReview), tf(tokens))))\n",
    "    \n",
    "    # Calculate idf's as a dict and return a broadcasted instance\n",
    "    idfs_broadcast = spark.sparkContext.broadcast(idf(DF.select('tokens')))\n",
    "    \n",
    "    # Calculate tfidf as an rdd of (clusterID, positiveReview, top_N_tokens)\n",
    "    topNwordsRDD = (tfRDD\n",
    "                    .mapValues(lambda tf_dict: [(token, float(tf_dict[token]) / idfs_broadcast.value[token]) for token in tf_dict.keys()])\n",
    "                    .mapValues(lambda tfidfs: sorted(tfidfs, key=lambda (token, tfidf): -tfidf)) # Sort words in descending order\n",
    "#                     .sortBy(lambda ((clusterID, positiveReview), tfidfs): ((clusterID, not positiveReview, sorted(tfidfs, key=lambda (token, tfidf): -tfidf))))\n",
    "                    .mapValues(lambda tfidfs: map(lambda (token, tfidf): token, tfidfs)[:N]) # Map (word, score) tuple to top N words\n",
    "                    .map(lambda ((clusterID, positiveReview), top_N_tokens): (clusterID, positiveReview, top_N_tokens)) # Flatten tuple\n",
    "                    .cache())\n",
    "    \n",
    "    # Transform topNwordsRDD to an RDD of form (clusterID, top_N_positive, top_N_negative)\n",
    "    temp_schema = T.StructType([\n",
    "        (T.StructField('clusterID', T.IntegerType())),\n",
    "        (T.StructField('positiveReview', T.BooleanType())),\n",
    "        (T.StructField('topWords', T.ArrayType(T.StringType())))\n",
    "    ])\n",
    "    \n",
    "    return (spark\n",
    "            .createDataFrame(topNwordsRDD, temp_schema)\n",
    "            .withColumn('posWords', bin_pos_top_words('topWords', 'positiveReview'))\n",
    "            .withColumn('negWords', bin_neg_top_words('topWords', 'positiveReview'))\n",
    "            .drop('positiveReview', 'topWords')\n",
    "            .groupBy('clusterID')\n",
    "            .agg(F.collect_list('posWords').alias('posWords'), F.collect_list('negWords').alias('negWords'))\n",
    "            .cache())"
   ]
  },
  {
   "cell_type": "code",
   "execution_count": 140,
   "metadata": {
    "scrolled": false
   },
   "outputs": [
    {
     "name": "stdout",
     "output_type": "stream",
     "text": [
      "Count: 12\n"
     ]
    },
    {
     "data": {
      "text/html": [
       "<div>\n",
       "<style>\n",
       "    .dataframe thead tr:only-child th {\n",
       "        text-align: right;\n",
       "    }\n",
       "\n",
       "    .dataframe thead th {\n",
       "        text-align: left;\n",
       "    }\n",
       "\n",
       "    .dataframe tbody tr th {\n",
       "        vertical-align: top;\n",
       "    }\n",
       "</style>\n",
       "<table border=\"1\" class=\"dataframe\">\n",
       "  <thead>\n",
       "    <tr style=\"text-align: right;\">\n",
       "      <th></th>\n",
       "      <th>clusterID</th>\n",
       "      <th>posWords</th>\n",
       "      <th>negWords</th>\n",
       "    </tr>\n",
       "  </thead>\n",
       "  <tbody>\n",
       "    <tr>\n",
       "      <th>0</th>\n",
       "      <td>91</td>\n",
       "      <td>[[monitor, static, sony, monitors, receiver, interference, hear, noise, range, video, fisher, sound, channels, camera, reception, activated, battery, wireless, 27, audio]]</td>\n",
       "      <td>[[monitor, static, receiver, beeps, sony, interference, beep, beeping, range, digital, monitors, camera, video, fisher, signal, reception, transmitter, noise, volume, sound]]</td>\n",
       "    </tr>\n",
       "    <tr>\n",
       "      <th>1</th>\n",
       "      <td>935</td>\n",
       "      <td>[[ductwork, kushions, scabs, ignores, curious, rv, cushioning, colliisions, profanity, grandkids, heater, reduction, vouch, alittle, urethane, corner, adhesive, protect, guards, head]]</td>\n",
       "      <td>[[jumbo, prince, lionheart, kidkusion, tape, dimensions, disguised, 2x1x1, protection, corners, cusion, conclusions, uploaded, matters, fireplace, workthe, bumpers, existence, boooooo, budged]]</td>\n",
       "    </tr>\n",
       "    <tr>\n",
       "      <th>2</th>\n",
       "      <td>6</td>\n",
       "      <td>[[jr, guardian, charging, nightlight, mobi, tykelight, nightlights, companion, contacts, base, light, glows, fascinated, grandson, red, vessel, night, toy, dim, charger]]</td>\n",
       "      <td>[[tykelight, contacts, kinderglo, charger, light, bright, charging, red, hypnotic, glomate, 30pm, clipper, base, charged, mobi, green, one, childs, presents, connects]]</td>\n",
       "    </tr>\n",
       "    <tr>\n",
       "      <th>3</th>\n",
       "      <td>1037</td>\n",
       "      <td>[[pee, teepees, plunk, hosed, weiner, cones, washable, fly, laughs, guarantee, shirt, changing, subtle, joke, lesson, fire, wiping, soak, lined, funny]]</td>\n",
       "      <td>[[pee, peed, teepee, tee, squirming, squirmy, moves, washcloth, squirted, uninator, wiggled, realistic, novelty, joy, advantages, slipped, starters, absorbs, peepee, novel]]</td>\n",
       "    </tr>\n",
       "    <tr>\n",
       "      <th>4</th>\n",
       "      <td>1677</td>\n",
       "      <td>[[pins, assistant, hee, counted, padded, absolutly, ethan, colorful, 52, decides, carriying, colourful, colours, higly, aquarium, mailer, concerning, neighbour, seattle, walker]]</td>\n",
       "      <td>[[crash, illegal, fmvss, trap, enforce, united, pins, restraint, death, seat, 213, geez, systematically, leaned, edged, legal, cart, vehicle, injury, chip]]</td>\n",
       "    </tr>\n",
       "    <tr>\n",
       "      <th>5</th>\n",
       "      <td>1607</td>\n",
       "      <td>[[handlebar, starry, bike, perfection, joovy, stroll, glove, grandmothers, ultralight, zip, caboose, gashes, gashed, bicycling, ties, cushioned, sleeve, city, rubber, jackpot]]</td>\n",
       "      <td>[[volume, music, washcloth, towel, ice, totes, lining, blanket, specs, section, 33, projection, wallet, santa, displayed, 12lbs, resort, superglueing, kleenx, operated]]</td>\n",
       "    </tr>\n",
       "    <tr>\n",
       "      <th>6</th>\n",
       "      <td>1578</td>\n",
       "      <td>[[pump, electric, isis, milk, medela, pumping, avent, pumps, breast, suction, manual, hospital, bottle, madela, sore, breasts, breastfeeding, bottles, one, tubing]]</td>\n",
       "      <td>[[pump, isis, electric, pumping, milk, medela, suction, breast, pumps, harmony, women, avent, bottle, engorged, bottles, planned, squeaked, get, one, would]]</td>\n",
       "    </tr>\n",
       "    <tr>\n",
       "      <th>7</th>\n",
       "      <td>1042</td>\n",
       "      <td>[[decal, tree, salon, decals, bedding, dirt, textured, posting, waxy, removes, stickier, wall, spray, everybody, grime, gorgeous, delivery, curl, walls, seller]]</td>\n",
       "      <td>[[branch, decal, trees, fingerprints, wall, xacto, misleading, glue, false, sticker, knife, unroll, overpaying, superglue, mural, dicovered, textured, advertising, wil, marker]]</td>\n",
       "    </tr>\n",
       "    <tr>\n",
       "      <th>8</th>\n",
       "      <td>1040</td>\n",
       "      <td>[[food, beaba, babycook, steamer, blender, mold, veggies, basket, foods, puree, steaming, steam, reservoir, cook, bowl, meals, carrots, steamed, processor, batches]]</td>\n",
       "      <td>[[food, steamer, beaba, mold, babycook, steaming, cook, basket, puree, steam, cooking, blender, processor, reservoir, stainless, stove, water, bitter, blend, batches]]</td>\n",
       "    </tr>\n",
       "    <tr>\n",
       "      <th>9</th>\n",
       "      <td>1141</td>\n",
       "      <td>[[straw, cups, sippy, straws, cup, playtex, gripper, spout, leak, insulated, spill, trainer, insulator, nuby, valve, proof, sippies, milk, drinks, designs]]</td>\n",
       "      <td>[[straw, cups, straws, vary, cup, princesses, playtex, sippy, girly, flowers, slits, unisex, milk, valve, disney, pink, princess, contigo, butterflies, cupholder]]</td>\n",
       "    </tr>\n",
       "    <tr>\n",
       "      <th>10</th>\n",
       "      <td>1652</td>\n",
       "      <td>[[bottle, bottles, nipple, soothie, breastfeeding, breast, breastflow, nipples, formula, soothies, tongue, milk, starter, avent, feeding, pacifier, latch, stage, markings, lactation]]</td>\n",
       "      <td>[[nipple, bottles, bottle, breastflow, collapses, milk, nipples, breast, collapse, flow, soothie, positives, enters, collapsed, sprouts, breastfed, transition, outer, gas, bpa]]</td>\n",
       "    </tr>\n",
       "    <tr>\n",
       "      <th>11</th>\n",
       "      <td>716</td>\n",
       "      <td>[[keepsake, putty, plaster, tinfoil, knead, sculpey, velcro, babyprints, bgs, frame, soaker, pearhead, classy, lbs, sewn, impressions, poopy, roller, imprint, role]]</td>\n",
       "      <td>[[diapers, velcro, frame, wax, prefolds, messes, waist, cutey, grovia, imprint, clay, layer, diaper, glued, prints, biosoakers, tab, sacrifice, fuzzibunz, joint]]</td>\n",
       "    </tr>\n",
       "  </tbody>\n",
       "</table>\n",
       "</div>"
      ],
      "text/plain": [
       "    clusterID  \\\n",
       "0   91          \n",
       "1   935         \n",
       "2   6           \n",
       "3   1037        \n",
       "4   1677        \n",
       "5   1607        \n",
       "6   1578        \n",
       "7   1042        \n",
       "8   1040        \n",
       "9   1141        \n",
       "10  1652        \n",
       "11  716         \n",
       "\n",
       "                                                                                                                                                                                    posWords  \\\n",
       "0   [[monitor, static, sony, monitors, receiver, interference, hear, noise, range, video, fisher, sound, channels, camera, reception, activated, battery, wireless, 27, audio]]                \n",
       "1   [[ductwork, kushions, scabs, ignores, curious, rv, cushioning, colliisions, profanity, grandkids, heater, reduction, vouch, alittle, urethane, corner, adhesive, protect, guards, head]]   \n",
       "2   [[jr, guardian, charging, nightlight, mobi, tykelight, nightlights, companion, contacts, base, light, glows, fascinated, grandson, red, vessel, night, toy, dim, charger]]                 \n",
       "3   [[pee, teepees, plunk, hosed, weiner, cones, washable, fly, laughs, guarantee, shirt, changing, subtle, joke, lesson, fire, wiping, soak, lined, funny]]                                   \n",
       "4   [[pins, assistant, hee, counted, padded, absolutly, ethan, colorful, 52, decides, carriying, colourful, colours, higly, aquarium, mailer, concerning, neighbour, seattle, walker]]         \n",
       "5   [[handlebar, starry, bike, perfection, joovy, stroll, glove, grandmothers, ultralight, zip, caboose, gashes, gashed, bicycling, ties, cushioned, sleeve, city, rubber, jackpot]]           \n",
       "6   [[pump, electric, isis, milk, medela, pumping, avent, pumps, breast, suction, manual, hospital, bottle, madela, sore, breasts, breastfeeding, bottles, one, tubing]]                       \n",
       "7   [[decal, tree, salon, decals, bedding, dirt, textured, posting, waxy, removes, stickier, wall, spray, everybody, grime, gorgeous, delivery, curl, walls, seller]]                          \n",
       "8   [[food, beaba, babycook, steamer, blender, mold, veggies, basket, foods, puree, steaming, steam, reservoir, cook, bowl, meals, carrots, steamed, processor, batches]]                      \n",
       "9   [[straw, cups, sippy, straws, cup, playtex, gripper, spout, leak, insulated, spill, trainer, insulator, nuby, valve, proof, sippies, milk, drinks, designs]]                               \n",
       "10  [[bottle, bottles, nipple, soothie, breastfeeding, breast, breastflow, nipples, formula, soothies, tongue, milk, starter, avent, feeding, pacifier, latch, stage, markings, lactation]]    \n",
       "11  [[keepsake, putty, plaster, tinfoil, knead, sculpey, velcro, babyprints, bgs, frame, soaker, pearhead, classy, lbs, sewn, impressions, poopy, roller, imprint, role]]                      \n",
       "\n",
       "                                                                                                                                                                                             negWords  \n",
       "0   [[monitor, static, receiver, beeps, sony, interference, beep, beeping, range, digital, monitors, camera, video, fisher, signal, reception, transmitter, noise, volume, sound]]                     \n",
       "1   [[jumbo, prince, lionheart, kidkusion, tape, dimensions, disguised, 2x1x1, protection, corners, cusion, conclusions, uploaded, matters, fireplace, workthe, bumpers, existence, boooooo, budged]]  \n",
       "2   [[tykelight, contacts, kinderglo, charger, light, bright, charging, red, hypnotic, glomate, 30pm, clipper, base, charged, mobi, green, one, childs, presents, connects]]                           \n",
       "3   [[pee, peed, teepee, tee, squirming, squirmy, moves, washcloth, squirted, uninator, wiggled, realistic, novelty, joy, advantages, slipped, starters, absorbs, peepee, novel]]                      \n",
       "4   [[crash, illegal, fmvss, trap, enforce, united, pins, restraint, death, seat, 213, geez, systematically, leaned, edged, legal, cart, vehicle, injury, chip]]                                       \n",
       "5   [[volume, music, washcloth, towel, ice, totes, lining, blanket, specs, section, 33, projection, wallet, santa, displayed, 12lbs, resort, superglueing, kleenx, operated]]                          \n",
       "6   [[pump, isis, electric, pumping, milk, medela, suction, breast, pumps, harmony, women, avent, bottle, engorged, bottles, planned, squeaked, get, one, would]]                                      \n",
       "7   [[branch, decal, trees, fingerprints, wall, xacto, misleading, glue, false, sticker, knife, unroll, overpaying, superglue, mural, dicovered, textured, advertising, wil, marker]]                  \n",
       "8   [[food, steamer, beaba, mold, babycook, steaming, cook, basket, puree, steam, cooking, blender, processor, reservoir, stainless, stove, water, bitter, blend, batches]]                            \n",
       "9   [[straw, cups, straws, vary, cup, princesses, playtex, sippy, girly, flowers, slits, unisex, milk, valve, disney, pink, princess, contigo, butterflies, cupholder]]                                \n",
       "10  [[nipple, bottles, bottle, breastflow, collapses, milk, nipples, breast, collapse, flow, soothie, positives, enters, collapsed, sprouts, breastfed, transition, outer, gas, bpa]]                  \n",
       "11  [[diapers, velcro, frame, wax, prefolds, messes, waist, cutey, grovia, imprint, clay, layer, diaper, glued, prints, biosoakers, tab, sacrifice, fuzzibunz, joint]]                                 "
      ]
     },
     "execution_count": 140,
     "metadata": {},
     "output_type": "execute_result"
    }
   ],
   "source": [
    "finalDF = top_N_words(aggregatedDF, N=20)\n",
    "displayDF(finalDF, 20)"
   ]
  },
  {
   "cell_type": "markdown",
   "metadata": {},
   "source": [
    "## Obtain non-commons words shared between `posWords` and `negWords`"
   ]
  },
  {
   "cell_type": "code",
   "execution_count": 143,
   "metadata": {},
   "outputs": [],
   "source": [
    "# UDFs to obtain exclusive words in posWords and negWords\n",
    "@F.udf(returnType=T.ArrayType(T.StringType()))\n",
    "def exclusive_words_pos(pos, neg):\n",
    "    return list(set(pos[0]) - (set(pos[0]) & set(neg[0])))\n",
    "\n",
    "@F.udf(returnType=T.ArrayType(T.StringType()))\n",
    "def exclusive_words_neg(pos, neg):\n",
    "    return list(set(neg[0]) - (set(pos[0]) & set(neg[0])))"
   ]
  },
  {
   "cell_type": "code",
   "execution_count": 146,
   "metadata": {
    "scrolled": false
   },
   "outputs": [
    {
     "name": "stdout",
     "output_type": "stream",
     "text": [
      "Count: 12\n"
     ]
    },
    {
     "data": {
      "text/html": [
       "<div>\n",
       "<style>\n",
       "    .dataframe thead tr:only-child th {\n",
       "        text-align: right;\n",
       "    }\n",
       "\n",
       "    .dataframe thead th {\n",
       "        text-align: left;\n",
       "    }\n",
       "\n",
       "    .dataframe tbody tr th {\n",
       "        vertical-align: top;\n",
       "    }\n",
       "</style>\n",
       "<table border=\"1\" class=\"dataframe\">\n",
       "  <thead>\n",
       "    <tr style=\"text-align: right;\">\n",
       "      <th></th>\n",
       "      <th>clusterID</th>\n",
       "      <th>exclusivePosWords</th>\n",
       "      <th>exclusiveNegWords</th>\n",
       "    </tr>\n",
       "  </thead>\n",
       "  <tbody>\n",
       "    <tr>\n",
       "      <th>0</th>\n",
       "      <td>91</td>\n",
       "      <td>[wireless, 27, battery, activated, channels, hear, audio]</td>\n",
       "      <td>[beep, transmitter, signal, volume, beeping, digital, beeps]</td>\n",
       "    </tr>\n",
       "    <tr>\n",
       "      <th>1</th>\n",
       "      <td>935</td>\n",
       "      <td>[grandkids, heater, rv, protect, guards, adhesive, curious, profanity, alittle, head, cushioning, urethane, kushions, reduction, ductwork, ignores, colliisions, corner, scabs, vouch]</td>\n",
       "      <td>[uploaded, kidkusion, workthe, dimensions, disguised, conclusions, lionheart, corners, prince, bumpers, 2x1x1, matters, protection, tape, cusion, jumbo, existence, boooooo, fireplace, budged]</td>\n",
       "    </tr>\n",
       "    <tr>\n",
       "      <th>2</th>\n",
       "      <td>6</td>\n",
       "      <td>[dim, toy, nightlight, grandson, glows, guardian, fascinated, jr, companion, nightlights, night, vessel]</td>\n",
       "      <td>[clipper, childs, 30pm, connects, hypnotic, one, presents, bright, glomate, kinderglo, green, charged]</td>\n",
       "    </tr>\n",
       "    <tr>\n",
       "      <th>3</th>\n",
       "      <td>1037</td>\n",
       "      <td>[fly, washable, cones, soak, funny, fire, plunk, laughs, guarantee, joke, wiping, hosed, changing, teepees, subtle, weiner, lined, lesson, shirt]</td>\n",
       "      <td>[teepee, novel, uninator, slipped, wiggled, squirmy, joy, novelty, tee, peed, starters, realistic, advantages, washcloth, absorbs, squirming, moves, peepee, squirted]</td>\n",
       "    </tr>\n",
       "    <tr>\n",
       "      <th>4</th>\n",
       "      <td>1677</td>\n",
       "      <td>[padded, neighbour, mailer, decides, colorful, assistant, absolutly, carriying, higly, counted, 52, colours, hee, ethan, walker, seattle, colourful, concerning, aquarium]</td>\n",
       "      <td>[fmvss, geez, restraint, united, crash, 213, systematically, illegal, chip, cart, seat, death, legal, vehicle, edged, injury, leaned, enforce, trap]</td>\n",
       "    </tr>\n",
       "    <tr>\n",
       "      <th>5</th>\n",
       "      <td>1607</td>\n",
       "      <td>[city, gashes, sleeve, zip, caboose, starry, bicycling, stroll, glove, cushioned, rubber, bike, perfection, handlebar, ties, jackpot, grandmothers, gashed, joovy, ultralight]</td>\n",
       "      <td>[volume, washcloth, towel, projection, wallet, 33, lining, blanket, kleenx, displayed, superglueing, ice, specs, totes, resort, music, santa, operated, 12lbs, section]</td>\n",
       "    </tr>\n",
       "    <tr>\n",
       "      <th>6</th>\n",
       "      <td>1578</td>\n",
       "      <td>[breastfeeding, manual, hospital, madela, breasts, sore, tubing]</td>\n",
       "      <td>[would, get, harmony, squeaked, planned, engorged, women]</td>\n",
       "    </tr>\n",
       "    <tr>\n",
       "      <th>7</th>\n",
       "      <td>1042</td>\n",
       "      <td>[everybody, waxy, salon, posting, dirt, delivery, tree, bedding, grime, removes, walls, seller, decals, spray, stickier, gorgeous, curl]</td>\n",
       "      <td>[fingerprints, false, wil, sticker, superglue, trees, xacto, unroll, misleading, dicovered, knife, branch, marker, glue, mural, overpaying, advertising]</td>\n",
       "    </tr>\n",
       "    <tr>\n",
       "      <th>8</th>\n",
       "      <td>1040</td>\n",
       "      <td>[steamed, carrots, bowl, foods, veggies, meals]</td>\n",
       "      <td>[stainless, stove, cooking, blend, water, bitter]</td>\n",
       "    </tr>\n",
       "    <tr>\n",
       "      <th>9</th>\n",
       "      <td>1141</td>\n",
       "      <td>[trainer, nuby, insulated, gripper, spill, leak, spout, designs, insulator, proof, sippies, drinks]</td>\n",
       "      <td>[pink, girly, unisex, cupholder, vary, butterflies, slits, princesses, flowers, contigo, princess, disney]</td>\n",
       "    </tr>\n",
       "  </tbody>\n",
       "</table>\n",
       "</div>"
      ],
      "text/plain": [
       "   clusterID  \\\n",
       "0  91          \n",
       "1  935         \n",
       "2  6           \n",
       "3  1037        \n",
       "4  1677        \n",
       "5  1607        \n",
       "6  1578        \n",
       "7  1042        \n",
       "8  1040        \n",
       "9  1141        \n",
       "\n",
       "                                                                                                                                                                        exclusivePosWords  \\\n",
       "0  [wireless, 27, battery, activated, channels, hear, audio]                                                                                                                                \n",
       "1  [grandkids, heater, rv, protect, guards, adhesive, curious, profanity, alittle, head, cushioning, urethane, kushions, reduction, ductwork, ignores, colliisions, corner, scabs, vouch]   \n",
       "2  [dim, toy, nightlight, grandson, glows, guardian, fascinated, jr, companion, nightlights, night, vessel]                                                                                 \n",
       "3  [fly, washable, cones, soak, funny, fire, plunk, laughs, guarantee, joke, wiping, hosed, changing, teepees, subtle, weiner, lined, lesson, shirt]                                        \n",
       "4  [padded, neighbour, mailer, decides, colorful, assistant, absolutly, carriying, higly, counted, 52, colours, hee, ethan, walker, seattle, colourful, concerning, aquarium]               \n",
       "5  [city, gashes, sleeve, zip, caboose, starry, bicycling, stroll, glove, cushioned, rubber, bike, perfection, handlebar, ties, jackpot, grandmothers, gashed, joovy, ultralight]           \n",
       "6  [breastfeeding, manual, hospital, madela, breasts, sore, tubing]                                                                                                                         \n",
       "7  [everybody, waxy, salon, posting, dirt, delivery, tree, bedding, grime, removes, walls, seller, decals, spray, stickier, gorgeous, curl]                                                 \n",
       "8  [steamed, carrots, bowl, foods, veggies, meals]                                                                                                                                          \n",
       "9  [trainer, nuby, insulated, gripper, spill, leak, spout, designs, insulator, proof, sippies, drinks]                                                                                      \n",
       "\n",
       "                                                                                                                                                                                 exclusiveNegWords  \n",
       "0  [beep, transmitter, signal, volume, beeping, digital, beeps]                                                                                                                                     \n",
       "1  [uploaded, kidkusion, workthe, dimensions, disguised, conclusions, lionheart, corners, prince, bumpers, 2x1x1, matters, protection, tape, cusion, jumbo, existence, boooooo, fireplace, budged]  \n",
       "2  [clipper, childs, 30pm, connects, hypnotic, one, presents, bright, glomate, kinderglo, green, charged]                                                                                           \n",
       "3  [teepee, novel, uninator, slipped, wiggled, squirmy, joy, novelty, tee, peed, starters, realistic, advantages, washcloth, absorbs, squirming, moves, peepee, squirted]                           \n",
       "4  [fmvss, geez, restraint, united, crash, 213, systematically, illegal, chip, cart, seat, death, legal, vehicle, edged, injury, leaned, enforce, trap]                                             \n",
       "5  [volume, washcloth, towel, projection, wallet, 33, lining, blanket, kleenx, displayed, superglueing, ice, specs, totes, resort, music, santa, operated, 12lbs, section]                          \n",
       "6  [would, get, harmony, squeaked, planned, engorged, women]                                                                                                                                        \n",
       "7  [fingerprints, false, wil, sticker, superglue, trees, xacto, unroll, misleading, dicovered, knife, branch, marker, glue, mural, overpaying, advertising]                                         \n",
       "8  [stainless, stove, cooking, blend, water, bitter]                                                                                                                                                \n",
       "9  [pink, girly, unisex, cupholder, vary, butterflies, slits, princesses, flowers, contigo, princess, disney]                                                                                       "
      ]
     },
     "execution_count": 146,
     "metadata": {},
     "output_type": "execute_result"
    }
   ],
   "source": [
    "exclusiveWordsDF = (finalDF\n",
    "                    .select('clusterID',\n",
    "                            exclusive_words_pos('posWords', 'negWords').alias('exclusivePosWords'), \n",
    "                            exclusive_words_neg('posWords', 'negWords').alias('exclusiveNegWords')))\n",
    "displayDF(exclusiveWordsDF)"
   ]
  },
  {
   "cell_type": "markdown",
   "metadata": {},
   "source": [
    "### Output `finalDF` to csv"
   ]
  },
  {
   "cell_type": "code",
   "execution_count": 149,
   "metadata": {
    "scrolled": false
   },
   "outputs": [],
   "source": [
    "exclusiveWordsDF.toPandas().to_csv('../../Results/exclusive_top_words.csv')"
   ]
  }
 ],
 "metadata": {
  "kernelspec": {
   "display_name": "Python 2",
   "language": "python",
   "name": "python2"
  },
  "language_info": {
   "codemirror_mode": {
    "name": "ipython",
    "version": 2
   },
   "file_extension": ".py",
   "mimetype": "text/x-python",
   "name": "python",
   "nbconvert_exporter": "python",
   "pygments_lexer": "ipython2",
   "version": "2.7.13"
  }
 },
 "nbformat": 4,
 "nbformat_minor": 2
}
