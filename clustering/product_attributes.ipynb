{
 "cells": [
  {
   "cell_type": "code",
   "execution_count": 1,
   "metadata": {
    "collapsed": true
   },
   "outputs": [],
   "source": [
    "import pandas as pd\n",
    "import numpy as np\n",
    "import matplotlib.pyplot as plt\n",
    "%matplotlib inline"
   ]
  },
  {
   "cell_type": "markdown",
   "metadata": {},
   "source": [
    "# Loading Data"
   ]
  },
  {
   "cell_type": "code",
   "execution_count": 2,
   "metadata": {
    "collapsed": true
   },
   "outputs": [],
   "source": [
    "baby_meta_df= pd.read_csv('baby_meta.csv', dtype={'salesRank': dict}) "
   ]
  },
  {
   "cell_type": "code",
   "execution_count": 3,
   "metadata": {
    "collapsed": true
   },
   "outputs": [],
   "source": [
    "baby_rating_df= pd.read_csv('ratings_Baby.csv', names = ['reviewerID', 'asin', 'overall', 'unixReviewTime']) "
   ]
  },
  {
   "cell_type": "markdown",
   "metadata": {},
   "source": [
    "## Product Ratings"
   ]
  },
  {
   "cell_type": "code",
   "execution_count": 4,
   "metadata": {
    "collapsed": true
   },
   "outputs": [],
   "source": [
    "def create_product_rating_count_df(rating_x_meta_df):\n",
    "    return pd.DataFrame(rating_x_meta_df.groupby('asin').overall.count())\\\n",
    "            .rename(index=str, columns={\"overall\": \"rating_count\"})\n",
    "    "
   ]
  },
  {
   "cell_type": "code",
   "execution_count": 5,
   "metadata": {
    "collapsed": true
   },
   "outputs": [],
   "source": [
    "def create_product_avg_rating_df(rating_x_meta_df):\n",
    "    return pd.DataFrame(rating_x_meta_df.groupby('asin').overall.mean())\\\n",
    "            .rename(index=str, columns={\"overall\": \"avg_rating\"})"
   ]
  },
  {
   "cell_type": "code",
   "execution_count": 6,
   "metadata": {
    "collapsed": true
   },
   "outputs": [],
   "source": [
    "def create_product_rating_summary_df(rating_df, meta_df):\n",
    "    rating_x_meta_df = rating_df.join(meta_df.set_index('asin'), on='asin')\n",
    "    count_df = create_product_rating_count_df(rating_x_meta_df)\n",
    "    avg_df = create_product_avg_rating_df(rating_x_meta_df)\n",
    "    return meta_df[['asin']].join(count_df, on='asin').join(avg_df, on='asin')"
   ]
  },
  {
   "cell_type": "code",
   "execution_count": 7,
   "metadata": {
    "collapsed": true
   },
   "outputs": [],
   "source": [
    "baby_product_rating_summary_df=create_product_rating_summary_df(baby_rating_df, baby_meta_df)"
   ]
  },
  {
   "cell_type": "code",
   "execution_count": 8,
   "metadata": {
    "collapsed": true
   },
   "outputs": [],
   "source": [
    "baby_product_rating_summary_df.to_csv('baby_product_rating_summary.csv')"
   ]
  },
  {
   "cell_type": "code",
   "execution_count": 9,
   "metadata": {
    "collapsed": true,
    "scrolled": true
   },
   "outputs": [],
   "source": [
    "baby_product_rating_summary_df[['asin','rating_count']].to_csv('baby_rating_count.csv')"
   ]
  },
  {
   "cell_type": "code",
   "execution_count": 10,
   "metadata": {},
   "outputs": [
    {
     "data": {
      "image/png": "[encoded data removed]",
      "text/plain": [
       "<matplotlib.figure.Figure at 0x7fbda74a6fd0>"
      ]
     },
     "metadata": {},
     "output_type": "display_data"
    }
   ],
   "source": [
    "total = baby_product_rating_summary_df.shape[0]\n",
    "prop_left_ls = []\n",
    "for n in range(1,21):\n",
    "    prop_left= baby_product_rating_summary_df.loc[baby_product_rating_summary_df['rating_count']>=n].shape[0]/total\n",
    "    prop_left_ls.append(prop_left)\n",
    "\n",
    "import matplotlib.pyplot as plt\n",
    "%matplotlib inline\n",
    "\n",
    "xs = range(1,21)\n",
    "ys = prop_left_ls\n",
    "plt.scatter(xs,ys)\n",
    "plt.show()"
   ]
  },
  {
   "cell_type": "code",
   "execution_count": null,
   "metadata": {
    "collapsed": true
   },
   "outputs": [],
   "source": []
  }
 ],
 "metadata": {
  "kernelspec": {
   "display_name": "Python 3",
   "language": "python",
   "name": "python3"
  },
  "language_info": {
   "codemirror_mode": {
    "name": "ipython",
    "version": 3
   },
   "file_extension": ".py",
   "mimetype": "text/x-python",
   "name": "python",
   "nbconvert_exporter": "python",
   "pygments_lexer": "ipython3",
   "version": "3.6.0"
  }
 },
 "nbformat": 4,
 "nbformat_minor": 2
}
