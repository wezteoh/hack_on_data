{
 "cells": [
  {
   "cell_type": "code",
   "execution_count": 28,
   "metadata": {
    "collapsed": true
   },
   "outputs": [],
   "source": [
    "from pyspark.sql.types import *\n",
    "\n",
    "ratings_df_schema = StructType(\n",
    "    [StructField('asin', StringType()),\n",
    "    StructField('helpful', ArrayType(IntegerType())),\n",
    "    StructField('overall', FloatType()),\n",
    "    StructField('reviewText', StringType()),\n",
    "    StructField('reviewTime', DateType()),\n",
    "    StructField('reviewerID', StringType()),\n",
    "    StructField('summary', StringType())])\n",
    "\n",
    "# StructField('unixReviewTime', LongType())\n",
    "# ['asin', 'description', 'title', 'categories']\n",
    "metadata_df_schema = StructType(\n",
    "    [StructField('asin', StringType()),\n",
    "    StructField('description', StringType()),\n",
    "    StructField('title', StringType()),\n",
    "    StructField('categories', ArrayType(StringType()))])\n"
   ]
  },
  {
   "cell_type": "code",
   "execution_count": 29,
   "metadata": {
    "collapsed": true
   },
   "outputs": [],
   "source": [
    "\n",
    "#import metadata files\n",
    "\n",
    "import gzip\n",
    "from pyspark.sql import Row\n",
    "from collections import OrderedDict\n",
    "from datetime import datetime\n",
    "\n",
    "def parse_metadata(path):\n",
    "    g = gzip.open(path, 'rb')\n",
    "    for l in g:\n",
    "        yield eval(l)\n",
    "\n",
    "def create_metadata_df(path):\n",
    "    metadata = []\n",
    "    for entry in parse_metadata(path):\n",
    "        metadata.append(entry)\n",
    "\n",
    "  #find all keys\n",
    "    all_keys = []\n",
    "    for i in range(len(metadata)):\n",
    "        for key in metadata[i].keys():\n",
    "            if key not in all_keys:\n",
    "                all_keys.append(key)\n",
    "    print(all_keys)\n",
    "  #['asin', 'categories', 'price', 'related'] in instant videos\n",
    "  #['asin', 'imUrl', 'description', 'categories', 'title', 'related', 'price', 'salesRank', 'brand'] in electronics\n",
    "  \n",
    "  #check number of entries that contains each key\n",
    "    key_count_dict = {}\n",
    "    for key in all_keys:\n",
    "        key_count_dict[key] = 0\n",
    "    for i in range(len(metadata)):\n",
    "        for key in all_keys:\n",
    "            if key in metadata[i].keys():\n",
    "                key_count_dict[key] += 1\n",
    "    print(key_count_dict)  \n",
    "#  {'asin': 498196, 'description': 459470, 'title': 491194, 'price': 389693, 'imUrl': 498021, 'related': 366959, 'salesRank': 128706, 'brand': 142532, 'categories': 498196} for electronics\n",
    "    discard_missing_info_col = True\n",
    "    cols_to_keep = ['asin', 'description', 'title', 'categories']\n",
    "    filtered_metadata = []\n",
    "    for i in range(len(metadata)):\n",
    "        keep_col = True\n",
    "        if discard_missing_info_col:\n",
    "      #only retain items that contain info for all columns\n",
    "            cols = [x for x in cols_to_keep if x in metadata[i].keys()]\n",
    "            if len(cols) != len(cols_to_keep):\n",
    "                keep_col = False\n",
    "        if keep_col:\n",
    "            temp_dict = {}\n",
    "            for col in cols_to_keep: \n",
    "                if col not in metadata[i].keys():\n",
    "                    temp_dict[col] = None\n",
    "                elif col == 'categories':#given as array of array so only keeep the inner array\n",
    "                    temp_dict[col] = metadata[i]['categories'][0]\n",
    "                else:\n",
    "                    temp_dict[col] = metadata[i][col]\n",
    "            filtered_metadata.append(temp_dict)\n",
    "\n",
    "    return sqlContext.createDataFrame(filtered_metadata, schema = metadata_df_schema)#schema=metadata_df_schema\n",
    "  \n",
    "\n",
    "# books_df = create_review_df('/dbfs/tmp/Metadata/Books.json.gz')\n",
    "#instant_video_meta_df = create_metadata_df('/dbfs/tmp/Metadata/Instant_Video.json.gz')\n",
    "# movies_df = create_review_df('/dbfs/tmp/Metadata/Movies_and_TV.json.gz')\n",
    "# cds_df = create_review_df('/dbfs/tmp/Metadata/CDs_and_Vinyl.json.gz')\n",
    "# instruments_df = create_review_df('/dbfs/tmp/Metadata/Musical_Instruments.json.gz')\n",
    "# instant_video_df = create_review_df('/dbfs/tmp/Metadata/Instant_Videos.json.gz'\n",
    "\n"
   ]
  },
  {
   "cell_type": "code",
   "execution_count": 30,
   "metadata": {},
   "outputs": [
    {
     "name": "stdout",
     "output_type": "stream",
     "text": [
      "['asin', 'categories', 'description', 'title', 'price', 'imUrl', 'brand', 'related', 'salesRank']\n",
      "{'asin': 71317, 'categories': 71317, 'description': 65642, 'title': 71241, 'price': 57741, 'imUrl': 71243, 'brand': 27858, 'related': 58721, 'salesRank': 36}\n"
     ]
    },
    {
     "data": {
      "text/plain": [
       "DataFrame[asin: string, description: string, title: string, categories: array<string>]"
      ]
     },
     "execution_count": 30,
     "metadata": {},
     "output_type": "execute_result"
    }
   ],
   "source": [
    "baby_meta_df = create_metadata_df('spark_notebooks/meta_Baby.json.gz')\n",
    "baby_meta_df.cache()"
   ]
  },
  {
   "cell_type": "code",
   "execution_count": 31,
   "metadata": {},
   "outputs": [
    {
     "name": "stdout",
     "output_type": "stream",
     "text": [
      "+----------+--------------------+--------------------+----------+\n",
      "|      asin|         description|               title|categories|\n",
      "+----------+--------------------+--------------------+----------+\n",
      "|0188399313|Wee-Go Glass baby...|Lifefactory 4oz B...|    [Baby]|\n",
      "|0188399518|The Planet Wise F...|Planetwise Flanne...|    [Baby]|\n",
      "|0188399399|The Planet Wise W...|Planetwise Wipe P...|    [Baby]|\n",
      "|0316967297|Hand crafted set ...|Annas Dream Full ...|    [Baby]|\n",
      "|0615447279|Thumbuddy To Love...|Stop Pacifier Suc...|    [Baby]|\n",
      "|0670062049|A baby can be put...|5 Pink Gumdrops +...|    [Baby]|\n",
      "|0705391752|Overview\n",
      "\n",
      "Include...|A Tale of Baby's ...|    [Baby]|\n",
      "|097293751X|Easily keep track...|Baby Tracker&reg;...|    [Baby]|\n",
      "|0974671517|What should we ca...|Wee Gallery Twins...|    [Baby]|\n",
      "|0980027519|These adorable, h...|Nature's Lullabie...|    [Baby]|\n",
      "|0980027500|This calendar pro...|Nature's Lullabie...|    [Baby]|\n",
      "|0980027586|This extra sticke...|Nature's Lullabie...|    [Baby]|\n",
      "|0980027594|This calendar pro...|Nature's Lullabie...|    [Baby]|\n",
      "|0981257224|The 7.53x5.53 spi...|Baby's First Jour...|    [Baby]|\n",
      "|0983676534|Introducing the a...|The Letter Heads ...|    [Baby]|\n",
      "|0985072830|This truly one of...|Islamic Wall Cloc...|    [Baby]|\n",
      "|1059879875|Become an interio...|Modern House Find...|    [Baby]|\n",
      "|1059875748|Become an interio...|Modern House Kids...|    [Baby]|\n",
      "|1432109529|Chronicle the eve...|&quot;My First Ye...|    [Baby]|\n",
      "|1450803229|More than 250 Acc...|Modern Baby Scrap...|    [Baby]|\n",
      "+----------+--------------------+--------------------+----------+\n",
      "only showing top 20 rows\n",
      "\n"
     ]
    }
   ],
   "source": [
    "baby_meta_df.show(20)"
   ]
  },
  {
   "cell_type": "code",
   "execution_count": 32,
   "metadata": {
    "collapsed": true
   },
   "outputs": [],
   "source": [
    "#import pandas as pd\n",
    "#df1 = pd.read_csv('spark_notebooks/baby_product_summary.csv')[['asin','rating_count']]"
   ]
  },
  {
   "cell_type": "code",
   "execution_count": 33,
   "metadata": {
    "collapsed": true
   },
   "outputs": [],
   "source": [
    "#rating_count_df = sqlContext.createDataFrame(df1)"
   ]
  },
  {
   "cell_type": "code",
   "execution_count": 34,
   "metadata": {
    "collapsed": true
   },
   "outputs": [],
   "source": [
    "rating_count_df = (sqlContext.read.format(\"com.databricks.spark.csv\").option(\"header\", \"true\")\\\n",
    "                  .load(\"spark_notebooks/baby_rating_count.csv\"))"
   ]
  },
  {
   "cell_type": "code",
   "execution_count": 35,
   "metadata": {
    "collapsed": true
   },
   "outputs": [],
   "source": [
    "baby_meta_rc_df = baby_meta_df.join(rating_count_df, baby_meta_df['asin']==rating_count_df['asin'], 'inner')\\\n",
    "                    .drop(rating_count_df.asin)"
   ]
  },
  {
   "cell_type": "code",
   "execution_count": 36,
   "metadata": {
    "collapsed": true
   },
   "outputs": [],
   "source": [
    "filtered_baby_meta_df = baby_meta_rc_df.filter(baby_meta_rc_df.rating_count>=5).drop('rating_count')"
   ]
  },
  {
   "cell_type": "code",
   "execution_count": 37,
   "metadata": {
    "collapsed": true
   },
   "outputs": [],
   "source": [
    "if baby_meta_df.is_cached:\n",
    "    baby_meta_df.unpersist()\n",
    "if not filtered_baby_meta_df.is_cached:\n",
    "    filtered_baby_meta_df.cache()"
   ]
  },
  {
   "cell_type": "code",
   "execution_count": 38,
   "metadata": {},
   "outputs": [
    {
     "name": "stdout",
     "output_type": "stream",
     "text": [
      "2969\n"
     ]
    }
   ],
   "source": [
    "def find_brands(path):\n",
    "    brands = []\n",
    "    count = 0\n",
    "    for entry in parse_metadata(path):\n",
    "        if 'brand' in entry.keys() and entry['brand'] not in brands:\n",
    "            brands.append(entry['brand'])\n",
    "    #brands.pop(brands.index(\"\"))\n",
    "    return brands\n",
    "   \n",
    "brands_stop_words = find_brands('spark_notebooks/meta_Baby.json.gz')\n",
    "print(len(brands_stop_words))"
   ]
  },
  {
   "cell_type": "code",
   "execution_count": 39,
   "metadata": {},
   "outputs": [
    {
     "name": "stdout",
     "output_type": "stream",
     "text": [
      "1\n"
     ]
    }
   ],
   "source": [
    "#print # of distinct categories among all products\n",
    "print(baby_meta_df.select('categories').distinct().count())"
   ]
  },
  {
   "cell_type": "code",
   "execution_count": 40,
   "metadata": {},
   "outputs": [
    {
     "name": "stdout",
     "output_type": "stream",
     "text": [
      "123\n",
      "['a', 'able', 'about', 'across', 'after', 'all', 'almost', 'also', 'am', 'among', 'an', 'and', 'any', 'are', 'as', 'at', 'be', 'because', 'been', 'but', 'by', 'can', 'cannot', 'could', 'dear', 'did', 'do', 'does', 'either', 'else', 'ever', 'every', 'for', 'from', 'get', 'got', 'had', 'has', 'have', 'he', 'her', 'hers', 'him', 'his', 'how', 'however', 'i', 'if', 'in', 'into', 'is', 'it', 'its', 'just', 'least', 'let', 'like', 'likely', 'may', 'me', 'might', 'most', 'must', 'my', 'neither', 'no', 'nor', 'not', 'of', 'off', 'often', 'on', 'only', 'or', 'other', 'our', 'own', 'rather', 'said', 'say', 'says', 'she', 'should', 'since', 'so', 'some', 'than', 'that', 'the', 'their', 'them', 'then', 'there', 'these', 'they', 'this', 'tis', 'to', 'too', 'twas', 'us', 'wants', 'was', 'we', 'were', 'what', 'when', 'where', 'which', 'while', 'who', 'whom', 'why', 'will', 'with', 'would', 'yet', 'you', 'your', '\\t', '\\n', 's', 't']\n"
     ]
    }
   ],
   "source": [
    "#import stopwords\n",
    "stopwords_path = 'spark_notebooks/stopwords_eng.txt'\n",
    "stopwords_rdd = sc.textFile(stopwords_path)\n",
    "stopwords = stopwords_rdd.collect()\n",
    "stopwords.append('\\t')\n",
    "stopwords.append('\\n')\n",
    "stopwords.append('s')\n",
    "stopwords.append('t')\n",
    "print(len(stopwords))\n",
    "print(stopwords)"
   ]
  },
  {
   "cell_type": "code",
   "execution_count": 41,
   "metadata": {
    "collapsed": true
   },
   "outputs": [],
   "source": [
    "#parse each column by itself instead\n",
    "# feature hashing\n",
    "#convert each row of metadata_df to list of tuple format \n",
    "from pyspark.sql.functions import udf, array, split\n",
    "import re\n",
    "\n",
    "def parse_row(col):\n",
    "    print('a')\n",
    "\n",
    "    if col == None:\n",
    "        return [(0, 'EmptyString')]\n",
    "    elif isinstance(col, str):\n",
    "        #remove brands first\n",
    "        for brand in brands_stop_words:\n",
    "            if brand in col:\n",
    "                col = col.replace(brand, \"\")\n",
    "                break\n",
    "        \n",
    "        words = re.split(r'\\W+',col)\n",
    "        \n",
    "    elif type(col) is list:\n",
    "        words = col\n",
    "  #assign featureID to its index in all_words (e.g. des_words_ID = 0, title_words_ID = 1, etc.)\n",
    "    tuple_list = []\n",
    "    for word in words:\n",
    "        lower_case_word = word.lower()\n",
    "        if lower_case_word not in stopwords:\n",
    "            tuple_list.append((0, lower_case_word))\n",
    "    return tuple_list\n",
    "\n",
    "# parse_row(filtered_baby_meta_df.select('description').first()[0])\n",
    "# filtered_baby_meta_df.select('description').show(1)\n",
    "    \n",
    "parse_row_udf = udf(parse_row, ArrayType(StructType([StructField('_1', LongType()),\n",
    "                                                         StructField('_2', StringType())])))\n",
    "tuple_baby_meta_df = filtered_baby_meta_df.select(filtered_baby_meta_df.asin, \\\n",
    "                                                       parse_row_udf(filtered_baby_meta_df.description).alias('description_features'), \\\n",
    "                                                       parse_row_udf(filtered_baby_meta_df.title).alias('title_features'), \\\n",
    "                                                       parse_row_udf(filtered_baby_meta_df.categories).alias('category_features'))\n",
    "                                                                                                                    \n",
    "if filtered_baby_meta_df.is_cached:\n",
    "    filtered_baby_meta_df.unpersist()\n",
    "if not tuple_baby_meta_df.is_cached:\n",
    "    tuple_baby_meta_df.cache()\n"
   ]
  },
  {
   "cell_type": "code",
   "execution_count": 42,
   "metadata": {},
   "outputs": [
    {
     "name": "stdout",
     "output_type": "stream",
     "text": [
      "+----------+--------------------+--------------------+-----------------+\n",
      "|      asin|description_features|      title_features|category_features|\n",
      "+----------+--------------------+--------------------+-----------------+\n",
      "|0615447279|[[0,thumbuddy], [...|[[0,stop], [0,pac...|       [[0,baby]]|\n",
      "|097293751X|[[0,easily], [0,k...|[[0,baby], [0,tra...|       [[0,baby]]|\n",
      "|0980027500|[[0,calendar], [0...|[[0,nature], [0,l...|       [[0,baby]]|\n",
      "+----------+--------------------+--------------------+-----------------+\n",
      "only showing top 3 rows\n",
      "\n"
     ]
    }
   ],
   "source": [
    "tuple_baby_meta_df.show(3)"
   ]
  },
  {
   "cell_type": "code",
   "execution_count": 43,
   "metadata": {},
   "outputs": [
    {
     "name": "stdout",
     "output_type": "stream",
     "text": [
      "0\n",
      "0\n",
      "0\n"
     ]
    }
   ],
   "source": [
    "#check for null elements for each feature\n",
    "print(tuple_baby_meta_df.where(tuple_baby_meta_df.description_features.isNull()).count())\n",
    "print(tuple_baby_meta_df.where(tuple_baby_meta_df.title_features.isNull()).count())\n",
    "print(tuple_baby_meta_df.where(tuple_baby_meta_df.category_features.isNull()).count())\n"
   ]
  },
  {
   "cell_type": "code",
   "execution_count": 44,
   "metadata": {
    "collapsed": true
   },
   "outputs": [],
   "source": [
    "def reduce(func, seq, initial):\n",
    "    fix = initial\n",
    "    for item in seq:\n",
    "        fix = func(fix,item)\n",
    "    return fix"
   ]
  },
  {
   "cell_type": "code",
   "execution_count": 45,
   "metadata": {
    "collapsed": true
   },
   "outputs": [],
   "source": [
    "from collections import defaultdict\n",
    "import hashlib\n",
    "\n",
    "def hash_function(raw_feats, num_buckets, print_mapping=False):\n",
    "    \"\"\"Calculate a feature dictionary for an observation's features based on hashing.\n",
    "\n",
    "    Note:\n",
    "        Use print_mapping=True for debug purposes and to better understand how the hashing works.\n",
    "\n",
    "    Args:\n",
    "        raw_feats (list of (int, str)): A list of features for an observation.  Represented as\n",
    "            (featureID, value) tuples.\n",
    "        num_buckets (int): Number of buckets to use as features.\n",
    "        print_mapping (bool, optional): If true, the mappings of featureString to index will be\n",
    "            printed.\n",
    "\n",
    "    Returns:\n",
    "        dict of int to float:  The keys will be integers which represent the buckets that the\n",
    "            features have been hashed to.  The value for a given key will contain the count of the\n",
    "            (featureID, value) tuples that have hashed to that key.\n",
    "    \"\"\"\n",
    "    mapping = { category + ':' + str(ind):\n",
    "                int(int(hashlib.md5((category + ':' + str(ind)).encode('utf-8')).hexdigest(), 16) % num_buckets)\n",
    "                for ind, category in raw_feats}\n",
    "    if(print_mapping): print(mapping)\n",
    "\n",
    "    def map_update(l, r):\n",
    "        l[r] += 1.0\n",
    "        return l\n",
    "\n",
    "    sparse_features = reduce(map_update, mapping.values(), defaultdict(float))\n",
    "    return dict(sparse_features)"
   ]
  },
  {
   "cell_type": "code",
   "execution_count": 46,
   "metadata": {
    "scrolled": false
   },
   "outputs": [
    {
     "name": "stdout",
     "output_type": "stream",
     "text": [
      "+----------+-------------------------+--------------------+----------------------+\n",
      "|      asin|description_hash_features| title_hash_features|category_hash_features|\n",
      "+----------+-------------------------+--------------------+----------------------+\n",
      "|0615447279|     (128,[7,12,18,20,...|(128,[12,23,28,57...|         (1,[0],[1.0])|\n",
      "|097293751X|     (128,[0,1,2,3,4,5...|(128,[4,26,45,48,...|         (1,[0],[1.0])|\n",
      "|0980027500|     (128,[1,7,24,25,2...|(128,[12,37,99,10...|         (1,[0],[1.0])|\n",
      "+----------+-------------------------+--------------------+----------------------+\n",
      "only showing top 3 rows\n",
      "\n"
     ]
    }
   ],
   "source": [
    "from pyspark.ml.linalg import Vectors, VectorUDT\n",
    "import numpy as np\n",
    "\n",
    "\n",
    "num_hash_buckets_description = 2 ** 7\n",
    "num_hash_buckets_title = 2 ** 7\n",
    "num_hash_buckets_category = 2 ** 0\n",
    "\n",
    "# UDF that returns a vector of hashed features given an Array of tuples\n",
    "\n",
    "def tuples_to_hash_features_desc(col):\n",
    "  return Vectors.sparse(num_hash_buckets_description, hash_function(col, num_hash_buckets_description))\n",
    "tuples_to_hash_features_desc_udf = udf(tuples_to_hash_features_desc, VectorUDT())\n",
    "\n",
    "def tuples_to_hash_features_title(col):\n",
    "  return Vectors.sparse(num_hash_buckets_title, hash_function(col, num_hash_buckets_title))\n",
    "tuples_to_hash_features_title_udf = udf(tuples_to_hash_features_title, VectorUDT())\n",
    "\n",
    "def tuples_to_hash_features_category(col):\n",
    "  return Vectors.sparse(num_hash_buckets_category, hash_function(col, num_hash_buckets_category))\n",
    "tuples_to_hash_features_category_udf = udf(tuples_to_hash_features_category, VectorUDT())\n",
    "\n",
    "\n",
    "def add_hashed_features(df):\n",
    "    \"\"\"Return a DataFrame with labels and hashed features.\n",
    "\n",
    "    Note:\n",
    "        Make sure to cache the DataFrame that you are returning.\n",
    "\n",
    "    Args:\n",
    "        df (DataFrame with 'tuples' column): A DataFrame containing the tuples to be hashed.\n",
    "\n",
    "    Returns:\n",
    "        DataFrame: A DataFrame with a 'label' column and a 'features' column that contains a\n",
    "            SparseVector of hashed features.\n",
    "    \"\"\"\n",
    "    return (df.select(df.asin, \\\n",
    "                      tuples_to_hash_features_desc_udf(df.description_features).alias('description_hash_features'), \\\n",
    "                      tuples_to_hash_features_title_udf(df.title_features).alias('title_hash_features'), \\\n",
    "                      tuples_to_hash_features_category_udf(df.category_features).alias('category_hash_features')))\n",
    "\n",
    "hash_baby_meta_df = add_hashed_features(tuple_baby_meta_df)\n",
    "\n",
    "tuple_baby_meta_df.unpersist()\n",
    "hash_baby_meta_df.cache().show(3)"
   ]
  },
  {
   "cell_type": "code",
   "execution_count": 47,
   "metadata": {},
   "outputs": [
    {
     "name": "stdout",
     "output_type": "stream",
     "text": [
      "0\n",
      "0\n",
      "0\n"
     ]
    }
   ],
   "source": [
    "print(hash_baby_meta_df.where(hash_baby_meta_df.description_hash_features.isNull()).count())\n",
    "print(hash_baby_meta_df.where(hash_baby_meta_df.title_hash_features.isNull()).count())\n",
    "print(hash_baby_meta_df.where(hash_baby_meta_df.category_hash_features.isNull()).count())"
   ]
  },
  {
   "cell_type": "code",
   "execution_count": 48,
   "metadata": {},
   "outputs": [
    {
     "name": "stdout",
     "output_type": "stream",
     "text": [
      "+----------+--------------------+\n",
      "|      asin|            features|\n",
      "+----------+--------------------+\n",
      "|0615447279|(257,[7,12,18,20,...|\n",
      "|097293751X|(257,[0,1,2,3,4,5...|\n",
      "|0980027500|(257,[1,7,24,25,2...|\n",
      "+----------+--------------------+\n",
      "only showing top 3 rows\n",
      "\n"
     ]
    }
   ],
   "source": [
    "from pyspark.ml.linalg import Vectors, VectorUDT, SparseVector\n",
    "\n",
    "\n",
    "# combine_hash_features_udf = udf(lambda x1:x1, VectorUDT())\n",
    "def combine_hash_features(col1, col2, col3):\n",
    "#   if isinstance(col1,SparseVector) and isinstance(col2,SparseVector) and isinstance(col3,SparseVector):\n",
    "  combined_array = np.concatenate((col1.toArray(),col2.toArray(), col3.toArray()))\n",
    "  sparse_vec = {i:combined_array[i] for i in np.nonzero(combined_array)[0]}\n",
    "  return Vectors.sparse(len(combined_array), sparse_vec)\n",
    "\n",
    "combine_hash_features_udf = udf(combine_hash_features, VectorUDT())\n",
    "\n",
    "hash_combined_baby_meta_df = hash_baby_meta_df.select(hash_baby_meta_df.asin, \\\n",
    "                                                                    combine_hash_features_udf(hash_baby_meta_df.description_hash_features, \\\n",
    "                                                                                              hash_baby_meta_df.title_hash_features, \\\n",
    "                                                                                              hash_baby_meta_df.category_hash_features).alias('features'))\n",
    "hash_baby_meta_df.unpersist()\n",
    "hash_combined_baby_meta_df.cache().show(3)\n"
   ]
  },
  {
   "cell_type": "code",
   "execution_count": 49,
   "metadata": {},
   "outputs": [
    {
     "name": "stdout",
     "output_type": "stream",
     "text": [
      "[(1000, 654634.6037635534), (1500, 592536.7144837584), (2000, 542256.0533069895)]\n"
     ]
    }
   ],
   "source": [
    "from pyspark.ml.clustering import KMeans\n",
    "from pyspark.ml.linalg import Vectors\n",
    "\n",
    "num_clusters_list = [1000, 1500, 2000]\n",
    "scores = []\n",
    "models = []\n",
    "for num_clusters in num_clusters_list:\n",
    "    kmeans = KMeans(k=num_clusters, seed=1, featuresCol=\"features\")\n",
    "    model = kmeans.fit(hash_combined_baby_meta_df)\n",
    "    models.append(model)\n",
    "    score = model.computeCost(hash_combined_baby_meta_df)\n",
    "    scores.append((num_clusters, score))\n",
    "print(scores)"
   ]
  },
  {
   "cell_type": "code",
   "execution_count": 50,
   "metadata": {},
   "outputs": [
    {
     "data": {
      "image/png": "[encoded data removed]",
      "text/plain": [
       "<matplotlib.figure.Figure at 0x7f294c9afb00>"
      ]
     },
     "metadata": {},
     "output_type": "display_data"
    }
   ],
   "source": [
    "import matplotlib.pyplot as plt\n",
    "%matplotlib inline\n",
    "\n",
    "xs = [pair[0] for pair in scores]\n",
    "ys = [pair[1] for pair in scores]\n",
    "plt.scatter(xs,ys)\n",
    "plt.show()"
   ]
  },
  {
   "cell_type": "code",
   "execution_count": 51,
   "metadata": {
    "collapsed": true
   },
   "outputs": [],
   "source": [
    "def create_cluster_df(kmeans_spark_df):\n",
    "    return kmeans_spark_df.toPandas()[['asin', 'prediction']]\\\n",
    "            .rename(index=str, columns={\"prediction\": \"clusterId\"})"
   ]
  },
  {
   "cell_type": "code",
   "execution_count": 52,
   "metadata": {
    "collapsed": true
   },
   "outputs": [],
   "source": [
    "baby_cluster_df = create_cluster_df(models[2].transform(hash_combined_baby_meta_df))\n",
    "baby_cluster_df.to_csv('spark_notebooks/baby_2000_2_cluster_df.csv')"
   ]
  },
  {
   "cell_type": "code",
   "execution_count": 53,
   "metadata": {
    "collapsed": true
   },
   "outputs": [],
   "source": [
    "baby_cluster_df = create_cluster_df(models[1].transform(hash_combined_baby_meta_df))\n",
    "baby_cluster_df.to_csv('spark_notebooks/baby_1500_2_cluster_df.csv')"
   ]
  },
  {
   "cell_type": "code",
   "execution_count": 54,
   "metadata": {
    "collapsed": true
   },
   "outputs": [],
   "source": [
    "baby_cluster_df = create_cluster_df(models[0].transform(hash_combined_baby_meta_df))\n",
    "baby_cluster_df.to_csv('spark_notebooks/baby_1000_2_cluster_df.csv')"
   ]
  }
 ],
 "metadata": {
  "kernelspec": {
   "display_name": "Python 3",
   "language": "python",
   "name": "python3"
  },
  "language_info": {
   "codemirror_mode": {
    "name": "ipython",
    "version": 3
   },
   "file_extension": ".py",
   "mimetype": "text/x-python",
   "name": "python",
   "nbconvert_exporter": "python",
   "pygments_lexer": "ipython3",
   "version": "3.6.0"
  },
  "name": "clustering_clean",
  "notebookId": 380649835595690
 },
 "nbformat": 4,
 "nbformat_minor": 1
}
