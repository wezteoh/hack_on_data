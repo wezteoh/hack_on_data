{
 "cells": [
  {
   "cell_type": "code",
   "execution_count": 373,
   "metadata": {
    "collapsed": true
   },
   "outputs": [],
   "source": [
    "import pandas as pd\n",
    "import numpy as np\n",
    "import matplotlib.pyplot as plt\n",
    "%matplotlib inline"
   ]
  },
  {
   "cell_type": "markdown",
   "metadata": {},
   "source": [
    "# Loading Data"
   ]
  },
  {
   "cell_type": "code",
   "execution_count": 374,
   "metadata": {},
   "outputs": [],
   "source": [
    "baby_meta_df= pd.read_csv('baby_meta.csv', dtype={'salesRank': dict}) "
   ]
  },
  {
   "cell_type": "code",
   "execution_count": 375,
   "metadata": {},
   "outputs": [],
   "source": [
    "baby_rating_df= pd.read_csv('ratings_Baby.csv', names = ['reviewerID', 'asin', 'overall', 'unixReviewTime']) "
   ]
  },
  {
   "cell_type": "code",
   "execution_count": 376,
   "metadata": {},
   "outputs": [],
   "source": [
    "baby_cluster_df = pd.read_csv('fake_baby_cluster.csv')[['asin','clusterId']]"
   ]
  },
  {
   "cell_type": "markdown",
   "metadata": {},
   "source": [
    "# Finding Cluster Attributes"
   ]
  },
  {
   "cell_type": "markdown",
   "metadata": {},
   "source": [
    "## Product Ratings"
   ]
  },
  {
   "cell_type": "code",
   "execution_count": 377,
   "metadata": {
    "collapsed": true
   },
   "outputs": [],
   "source": [
    "def create_product_rating_count_df(rating_x_meta_df):\n",
    "    return pd.DataFrame(rating_x_meta_df.groupby('asin').overall.count())\\\n",
    "            .rename(index=str, columns={\"overall\": \"rating_count\"})\n",
    "    "
   ]
  },
  {
   "cell_type": "code",
   "execution_count": 378,
   "metadata": {
    "collapsed": true
   },
   "outputs": [],
   "source": [
    "def create_product_avg_rating_df(rating_x_meta_df):\n",
    "    return pd.DataFrame(rating_x_meta_df.groupby('asin').overall.mean())\\\n",
    "            .rename(index=str, columns={\"overall\": \"avg_rating\"})"
   ]
  },
  {
   "cell_type": "code",
   "execution_count": 379,
   "metadata": {
    "collapsed": true
   },
   "outputs": [],
   "source": [
    "def create_product_rating_summary_df(rating_df, meta_df):\n",
    "    rating_x_meta_df = rating_df.join(meta_df.set_index('asin'), on='asin')\n",
    "    count_df = create_product_rating_count_df(rating_x_meta_df)\n",
    "    avg_df = create_product_avg_rating_df(rating_x_meta_df)\n",
    "    return meta_df[['asin']].join(count_df, on='asin').join(avg_df, on='asin')"
   ]
  },
  {
   "cell_type": "code",
   "execution_count": 380,
   "metadata": {
    "collapsed": true
   },
   "outputs": [],
   "source": [
    "baby_product_rating_summary_df=create_product_rating_summary_df(baby_rating_df, baby_meta_df)"
   ]
  },
  {
   "cell_type": "markdown",
   "metadata": {},
   "source": [
    "## Cluster rating attributes"
   ]
  },
  {
   "cell_type": "code",
   "execution_count": 381,
   "metadata": {
    "collapsed": true
   },
   "outputs": [],
   "source": [
    "def theil_index(array):\n",
    "    mean = np.mean(array)\n",
    "    count = len(array)-np.isnan(array).sum()\n",
    "    return np.sum(((array/mean)*np.log(array/mean))/count)"
   ]
  },
  {
   "cell_type": "code",
   "execution_count": 382,
   "metadata": {
    "collapsed": true
   },
   "outputs": [],
   "source": [
    "def create_cluster_avg_rating_df(cluster_x_rating_summary_df):\n",
    "    return cluster_x_rating_summary_df.groupby('clusterId').avg_rating.mean().to_frame()\\\n",
    "        .rename(index=str, columns={\"avg_rating\": \"cluster_avg_rating\"})"
   ]
  },
  {
   "cell_type": "code",
   "execution_count": 383,
   "metadata": {
    "collapsed": true
   },
   "outputs": [],
   "source": [
    "def create_cluster_rating_var_df(cluster_x_rating_summary_df):\n",
    "    return pd.DataFrame(data=cluster_x_rating_summary_df.groupby('clusterId').avg_rating.var())\\\n",
    "           .rename(index=str, columns={\"avg_rating\": \"cluster_avg_rating_var\"})"
   ]
  },
  {
   "cell_type": "code",
   "execution_count": 384,
   "metadata": {
    "collapsed": true
   },
   "outputs": [],
   "source": [
    "def create_cluster_rating_theil_index_df(cluster_x_rating_summary_df):\n",
    "    return pd.DataFrame(data=cluster_x_rating_summary_df.groupby('clusterId').avg_rating.apply(theil_index))\\\n",
    "            .rename(index=str, columns={\"avg_rating\": \"cluster_rating_theil_index\"})"
   ]
  },
  {
   "cell_type": "code",
   "execution_count": 385,
   "metadata": {
    "collapsed": true
   },
   "outputs": [],
   "source": [
    "def create_cluster_rating_count_df(cluster_x_rating_summary_df):\n",
    "    return pd.DataFrame(cluster_x_rating_summary_df.groupby('clusterId').rating_count.sum())\\\n",
    "            .rename(index=str, columns={\"rating_count\": \"cluster_rating_count\"})"
   ]
  },
  {
   "cell_type": "code",
   "execution_count": 386,
   "metadata": {},
   "outputs": [],
   "source": [
    "def create_cluster_rating_summary_df(cluster_df, product_rating_summary_df):\n",
    "    cluster_x_rating_summary_df = product_rating_summary_df.join(cluster_df.set_index('asin'), on='asin')\n",
    "    avg_df = create_cluster_avg_rating_df(cluster_x_rating_summary_df)\n",
    "    count_df = create_cluster_rating_count_df(cluster_x_rating_summary_df)\n",
    "    var_df = create_cluster_rating_var_df(cluster_x_rating_summary_df)\n",
    "    t_df = create_cluster_rating_theil_index_df(cluster_x_rating_summary_df)\n",
    "    return avg_df.join(count_df).join(var_df).join(t_df).reset_index()\n",
    "\n"
   ]
  },
  {
   "cell_type": "code",
   "execution_count": 387,
   "metadata": {
    "collapsed": true
   },
   "outputs": [],
   "source": [
    "baby_cluster_rating_summary_df = create_cluster_rating_summary_df(baby_cluster_df, baby_product_rating_summary_df)"
   ]
  },
  {
   "cell_type": "markdown",
   "metadata": {},
   "source": [
    "## Cluster price attributes"
   ]
  },
  {
   "cell_type": "code",
   "execution_count": 397,
   "metadata": {
    "collapsed": true,
    "scrolled": true
   },
   "outputs": [],
   "source": [
    "def create_cluster_price_var_df(cluster_x_meta_df):\n",
    "    return pd.DataFrame(data=cluster_x_meta_df.groupby('clusterId').price.var())\\\n",
    "           .rename(index=str, columns={\"price\": \"cluster_price_var\"})"
   ]
  },
  {
   "cell_type": "code",
   "execution_count": 398,
   "metadata": {
    "collapsed": true,
    "scrolled": true
   },
   "outputs": [],
   "source": [
    "def create_cluster_price_theil_index_df(cluster_x_meta_df):\n",
    "     return pd.DataFrame(data=cluster_x_meta_df.groupby('clusterId').price.apply(theil_index))\\\n",
    "            .rename(index=str, columns={\"price\": \"cluster_price_theil_index\"})"
   ]
  },
  {
   "cell_type": "code",
   "execution_count": 399,
   "metadata": {
    "collapsed": true,
    "scrolled": true
   },
   "outputs": [],
   "source": [
    "def create_cluster_price_summary_df(cluster_df, meta_df):\n",
    "    cluster_x_meta_df = meta_df.join(cluster_df.set_index('asin'), on='asin')\n",
    "    var_df = create_cluster_price_var_df(cluster_x_meta_df)\n",
    "    t_df = create_cluster_price_theil_index_df(cluster_x_meta_df)\n",
    "    return var_df.join(t_df).reset_index()"
   ]
  },
  {
   "cell_type": "code",
   "execution_count": 400,
   "metadata": {
    "scrolled": true
   },
   "outputs": [],
   "source": [
    "baby_cluster_price_summary_df = create_cluster_price_summary_df(baby_cluster_df, baby_meta_df)"
   ]
  },
  {
   "cell_type": "markdown",
   "metadata": {},
   "source": [
    "## Combine attributes"
   ]
  },
  {
   "cell_type": "code",
   "execution_count": 401,
   "metadata": {
    "scrolled": true
   },
   "outputs": [],
   "source": [
    "baby_cluster_summary_df = baby_cluster_rating_summary_df.join(baby_cluster_price_summary_df.\\\n",
    "                                                              set_index('clusterId'), on='clusterId')"
   ]
  },
  {
   "cell_type": "code",
   "execution_count": 402,
   "metadata": {
    "scrolled": true
   },
   "outputs": [
    {
     "data": {
      "text/html": [
       "<div>\n",
       "<table border=\"1\" class=\"dataframe\">\n",
       "  <thead>\n",
       "    <tr style=\"text-align: right;\">\n",
       "      <th></th>\n",
       "      <th>clusterId</th>\n",
       "      <th>cluster_avg_rating</th>\n",
       "      <th>cluster_rating_count</th>\n",
       "      <th>cluster_avg_rating_var</th>\n",
       "      <th>cluster_rating_theil_index</th>\n",
       "      <th>cluster_price_var</th>\n",
       "      <th>cluster_price_theil_index</th>\n",
       "    </tr>\n",
       "  </thead>\n",
       "  <tbody>\n",
       "    <tr>\n",
       "      <th>0</th>\n",
       "      <td>0</td>\n",
       "      <td>4.074215</td>\n",
       "      <td>8899.0</td>\n",
       "      <td>0.960449</td>\n",
       "      <td>0.033978</td>\n",
       "      <td>5778.215544</td>\n",
       "      <td>0.749301</td>\n",
       "    </tr>\n",
       "    <tr>\n",
       "      <th>1</th>\n",
       "      <td>1</td>\n",
       "      <td>4.027458</td>\n",
       "      <td>8235.0</td>\n",
       "      <td>1.092041</td>\n",
       "      <td>0.039950</td>\n",
       "      <td>7037.698323</td>\n",
       "      <td>0.788013</td>\n",
       "    </tr>\n",
       "    <tr>\n",
       "      <th>2</th>\n",
       "      <td>2</td>\n",
       "      <td>4.068809</td>\n",
       "      <td>7313.0</td>\n",
       "      <td>1.016189</td>\n",
       "      <td>0.036250</td>\n",
       "      <td>5599.692775</td>\n",
       "      <td>0.732535</td>\n",
       "    </tr>\n",
       "    <tr>\n",
       "      <th>3</th>\n",
       "      <td>3</td>\n",
       "      <td>4.126346</td>\n",
       "      <td>7476.0</td>\n",
       "      <td>0.946893</td>\n",
       "      <td>0.032980</td>\n",
       "      <td>7322.857408</td>\n",
       "      <td>0.784256</td>\n",
       "    </tr>\n",
       "    <tr>\n",
       "      <th>4</th>\n",
       "      <td>4</td>\n",
       "      <td>4.090006</td>\n",
       "      <td>7937.0</td>\n",
       "      <td>1.002177</td>\n",
       "      <td>0.035138</td>\n",
       "      <td>4900.027766</td>\n",
       "      <td>0.714846</td>\n",
       "    </tr>\n",
       "  </tbody>\n",
       "</table>\n",
       "</div>"
      ],
      "text/plain": [
       "  clusterId  cluster_avg_rating  cluster_rating_count  cluster_avg_rating_var  \\\n",
       "0         0            4.074215                8899.0                0.960449   \n",
       "1         1            4.027458                8235.0                1.092041   \n",
       "2         2            4.068809                7313.0                1.016189   \n",
       "3         3            4.126346                7476.0                0.946893   \n",
       "4         4            4.090006                7937.0                1.002177   \n",
       "\n",
       "   cluster_rating_theil_index  cluster_price_var  cluster_price_theil_index  \n",
       "0                    0.033978        5778.215544                   0.749301  \n",
       "1                    0.039950        7037.698323                   0.788013  \n",
       "2                    0.036250        5599.692775                   0.732535  \n",
       "3                    0.032980        7322.857408                   0.784256  \n",
       "4                    0.035138        4900.027766                   0.714846  "
      ]
     },
     "execution_count": 402,
     "metadata": {},
     "output_type": "execute_result"
    }
   ],
   "source": [
    "baby_cluster_summary_df.head()"
   ]
  },
  {
   "cell_type": "markdown",
   "metadata": {},
   "source": [
    "# Output csv"
   ]
  },
  {
   "cell_type": "code",
   "execution_count": null,
   "metadata": {
    "collapsed": true
   },
   "outputs": [],
   "source": [
    "baby_cluster_summary_df.to_csv('baby_cluster_summary.csv')"
   ]
  }
 ],
 "metadata": {
  "kernelspec": {
   "display_name": "Python 3",
   "language": "python",
   "name": "python3"
  },
  "language_info": {
   "codemirror_mode": {
    "name": "ipython",
    "version": 3
   },
   "file_extension": ".py",
   "mimetype": "text/x-python",
   "name": "python",
   "nbconvert_exporter": "python",
   "pygments_lexer": "ipython3",
   "version": "3.6.0"
  }
 },
 "nbformat": 4,
 "nbformat_minor": 2
}
